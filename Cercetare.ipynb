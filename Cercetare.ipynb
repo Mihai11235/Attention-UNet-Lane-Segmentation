{
 "nbformat": 4,
 "nbformat_minor": 0,
 "metadata": {
  "colab": {
   "provenance": [],
   "gpuType": "T4",
   "authorship_tag": "ABX9TyPWcXpjF8P6ruzvySJl0Hui"
  },
  "kernelspec": {
   "name": "python3",
   "display_name": "Python 3"
  },
  "language_info": {
   "name": "python"
  },
  "accelerator": "GPU"
 },
 "cells": [
  {
   "cell_type": "code",
   "source": [
    "from google.colab import drive\n",
    "drive.mount('/content/drive')"
   ],
   "metadata": {
    "colab": {
     "base_uri": "https://localhost:8080/"
    },
    "id": "OKZwFVusPuZw",
    "executionInfo": {
     "status": "ok",
     "timestamp": 1732235370769,
     "user_tz": -120,
     "elapsed": 27194,
     "user": {
      "displayName": "Best User",
      "userId": "02999704111326163772"
     }
    },
    "outputId": "e0145bb9-1861-48df-f7b2-5ebec33fcb25"
   },
   "execution_count": 1,
   "outputs": [
    {
     "output_type": "stream",
     "name": "stdout",
     "text": [
      "Mounted at /content/drive\n"
     ]
    }
   ]
  },
  {
   "cell_type": "code",
   "source": [
    "import shutil\n",
    "\n",
    "\n",
    "# Source folder in Google Drive\n",
    "src_folder = '/content/drive/My Drive/Datasets'\n",
    "\n",
    "# Destination folder in Colab local storage\n",
    "dest_folder = '/content/Dataset'\n",
    "\n",
    "# Copy the folder\n",
    "shutil.copytree(src_folder, dest_folder)"
   ],
   "metadata": {
    "colab": {
     "base_uri": "https://localhost:8080/",
     "height": 35
    },
    "id": "RBVll4FSNzzy",
    "executionInfo": {
     "status": "ok",
     "timestamp": 1732235410533,
     "user_tz": -120,
     "elapsed": 22846,
     "user": {
      "displayName": "Best User",
      "userId": "02999704111326163772"
     }
    },
    "outputId": "0953db9c-e162-4bb1-dbf2-0f78ba0e20ca"
   },
   "execution_count": 4,
   "outputs": [
    {
     "output_type": "execute_result",
     "data": {
      "text/plain": [
       "'/content/Dataset'"
      ],
      "application/vnd.google.colaboratory.intrinsic+json": {
       "type": "string"
      }
     },
     "metadata": {},
     "execution_count": 4
    }
   ]
  },
  {
   "cell_type": "code",
   "execution_count": 19,
   "metadata": {
    "colab": {
     "base_uri": "https://localhost:8080/"
    },
    "collapsed": true,
    "id": "E6mD-0b_NJf8",
    "executionInfo": {
     "status": "ok",
     "timestamp": 1732239956780,
     "user_tz": -120,
     "elapsed": 1071569,
     "user": {
      "displayName": "Best User",
      "userId": "02999704111326163772"
     }
    },
    "outputId": "82cd049c-c952-43c1-b23b-ce05f6829d87"
   },
   "outputs": [
    {
     "output_type": "stream",
     "name": "stderr",
     "text": [
      "Epoch 1/100 - Training: 100%|██████████| 7/7 [00:06<00:00,  1.02it/s, Loss=0.582]\n",
      "Epoch 1/100 - Validation: 100%|██████████| 7/7 [00:03<00:00,  2.27it/s, Loss=0.702]\n"
     ]
    },
    {
     "output_type": "stream",
     "name": "stdout",
     "text": [
      "Epoch 1/100, Train Loss: 0.5823, Val Loss: 0.7025\n"
     ]
    },
    {
     "output_type": "stream",
     "name": "stderr",
     "text": [
      "Epoch 2/100 - Training: 100%|██████████| 7/7 [00:06<00:00,  1.02it/s, Loss=0.343]\n",
      "Epoch 2/100 - Validation: 100%|██████████| 7/7 [00:03<00:00,  2.25it/s, Loss=0.426]\n"
     ]
    },
    {
     "output_type": "stream",
     "name": "stdout",
     "text": [
      "Epoch 2/100, Train Loss: 0.3430, Val Loss: 0.4260\n"
     ]
    },
    {
     "output_type": "stream",
     "name": "stderr",
     "text": [
      "Epoch 3/100 - Training: 100%|██████████| 7/7 [00:06<00:00,  1.06it/s, Loss=0.278]\n",
      "Epoch 3/100 - Validation: 100%|██████████| 7/7 [00:03<00:00,  1.80it/s, Loss=0.275]\n"
     ]
    },
    {
     "output_type": "stream",
     "name": "stdout",
     "text": [
      "Epoch 3/100, Train Loss: 0.2780, Val Loss: 0.2753\n"
     ]
    },
    {
     "output_type": "stream",
     "name": "stderr",
     "text": [
      "Epoch 4/100 - Training: 100%|██████████| 7/7 [00:07<00:00,  1.02s/it, Loss=0.234]\n",
      "Epoch 4/100 - Validation: 100%|██████████| 7/7 [00:03<00:00,  1.87it/s, Loss=0.281]\n"
     ]
    },
    {
     "output_type": "stream",
     "name": "stdout",
     "text": [
      "Epoch 4/100, Train Loss: 0.2342, Val Loss: 0.2807\n"
     ]
    },
    {
     "output_type": "stream",
     "name": "stderr",
     "text": [
      "Epoch 5/100 - Training: 100%|██████████| 7/7 [00:06<00:00,  1.04it/s, Loss=0.203]\n",
      "Epoch 5/100 - Validation: 100%|██████████| 7/7 [00:03<00:00,  2.19it/s, Loss=0.232]\n"
     ]
    },
    {
     "output_type": "stream",
     "name": "stdout",
     "text": [
      "Epoch 5/100, Train Loss: 0.2028, Val Loss: 0.2320\n"
     ]
    },
    {
     "output_type": "stream",
     "name": "stderr",
     "text": [
      "Epoch 6/100 - Training: 100%|██████████| 7/7 [00:07<00:00,  1.01s/it, Loss=0.177]\n",
      "Epoch 6/100 - Validation: 100%|██████████| 7/7 [00:03<00:00,  2.21it/s, Loss=0.199]\n"
     ]
    },
    {
     "output_type": "stream",
     "name": "stdout",
     "text": [
      "Epoch 6/100, Train Loss: 0.1767, Val Loss: 0.1995\n"
     ]
    },
    {
     "output_type": "stream",
     "name": "stderr",
     "text": [
      "Epoch 7/100 - Training: 100%|██████████| 7/7 [00:06<00:00,  1.03it/s, Loss=0.155]\n",
      "Epoch 7/100 - Validation: 100%|██████████| 7/7 [00:03<00:00,  2.25it/s, Loss=0.172]\n"
     ]
    },
    {
     "output_type": "stream",
     "name": "stdout",
     "text": [
      "Epoch 7/100, Train Loss: 0.1551, Val Loss: 0.1723\n"
     ]
    },
    {
     "output_type": "stream",
     "name": "stderr",
     "text": [
      "Epoch 8/100 - Training: 100%|██████████| 7/7 [00:06<00:00,  1.09it/s, Loss=0.138]\n",
      "Epoch 8/100 - Validation: 100%|██████████| 7/7 [00:03<00:00,  1.83it/s, Loss=0.149]\n"
     ]
    },
    {
     "output_type": "stream",
     "name": "stdout",
     "text": [
      "Epoch 8/100, Train Loss: 0.1382, Val Loss: 0.1485\n"
     ]
    },
    {
     "output_type": "stream",
     "name": "stderr",
     "text": [
      "Epoch 9/100 - Training: 100%|██████████| 7/7 [00:06<00:00,  1.08it/s, Loss=0.124]\n",
      "Epoch 9/100 - Validation: 100%|██████████| 7/7 [00:03<00:00,  2.01it/s, Loss=0.131]\n"
     ]
    },
    {
     "output_type": "stream",
     "name": "stdout",
     "text": [
      "Epoch 9/100, Train Loss: 0.1241, Val Loss: 0.1307\n"
     ]
    },
    {
     "output_type": "stream",
     "name": "stderr",
     "text": [
      "Epoch 10/100 - Training: 100%|██████████| 7/7 [00:06<00:00,  1.03it/s, Loss=0.112]\n",
      "Epoch 10/100 - Validation: 100%|██████████| 7/7 [00:03<00:00,  2.24it/s, Loss=0.117]\n"
     ]
    },
    {
     "output_type": "stream",
     "name": "stdout",
     "text": [
      "Epoch 10/100, Train Loss: 0.1121, Val Loss: 0.1165\n"
     ]
    },
    {
     "output_type": "stream",
     "name": "stderr",
     "text": [
      "Epoch 11/100 - Training: 100%|██████████| 7/7 [00:06<00:00,  1.03it/s, Loss=0.103]\n",
      "Epoch 11/100 - Validation: 100%|██████████| 7/7 [00:03<00:00,  2.26it/s, Loss=0.106]\n"
     ]
    },
    {
     "output_type": "stream",
     "name": "stdout",
     "text": [
      "Epoch 11/100, Train Loss: 0.1026, Val Loss: 0.1056\n"
     ]
    },
    {
     "output_type": "stream",
     "name": "stderr",
     "text": [
      "Epoch 12/100 - Training: 100%|██████████| 7/7 [00:06<00:00,  1.04it/s, Loss=0.0946]\n",
      "Epoch 12/100 - Validation: 100%|██████████| 7/7 [00:03<00:00,  2.15it/s, Loss=0.102]\n"
     ]
    },
    {
     "output_type": "stream",
     "name": "stdout",
     "text": [
      "Epoch 12/100, Train Loss: 0.0946, Val Loss: 0.1019\n"
     ]
    },
    {
     "output_type": "stream",
     "name": "stderr",
     "text": [
      "Epoch 13/100 - Training: 100%|██████████| 7/7 [00:06<00:00,  1.10it/s, Loss=0.0873]\n",
      "Epoch 13/100 - Validation: 100%|██████████| 7/7 [00:04<00:00,  1.65it/s, Loss=0.0912]\n"
     ]
    },
    {
     "output_type": "stream",
     "name": "stdout",
     "text": [
      "Epoch 13/100, Train Loss: 0.0873, Val Loss: 0.0912\n"
     ]
    },
    {
     "output_type": "stream",
     "name": "stderr",
     "text": [
      "Epoch 14/100 - Training: 100%|██████████| 7/7 [00:06<00:00,  1.09it/s, Loss=0.081]\n",
      "Epoch 14/100 - Validation: 100%|██████████| 7/7 [00:03<00:00,  2.14it/s, Loss=0.0827]\n"
     ]
    },
    {
     "output_type": "stream",
     "name": "stdout",
     "text": [
      "Epoch 14/100, Train Loss: 0.0810, Val Loss: 0.0827\n"
     ]
    },
    {
     "output_type": "stream",
     "name": "stderr",
     "text": [
      "Epoch 15/100 - Training: 100%|██████████| 7/7 [00:06<00:00,  1.05it/s, Loss=0.0751]\n",
      "Epoch 15/100 - Validation: 100%|██████████| 7/7 [00:03<00:00,  2.25it/s, Loss=0.0772]\n"
     ]
    },
    {
     "output_type": "stream",
     "name": "stdout",
     "text": [
      "Epoch 15/100, Train Loss: 0.0751, Val Loss: 0.0772\n"
     ]
    },
    {
     "output_type": "stream",
     "name": "stderr",
     "text": [
      "Epoch 16/100 - Training: 100%|██████████| 7/7 [00:07<00:00,  1.01s/it, Loss=0.0708]\n",
      "Epoch 16/100 - Validation: 100%|██████████| 7/7 [00:03<00:00,  2.27it/s, Loss=0.0728]\n"
     ]
    },
    {
     "output_type": "stream",
     "name": "stdout",
     "text": [
      "Epoch 16/100, Train Loss: 0.0708, Val Loss: 0.0728\n"
     ]
    },
    {
     "output_type": "stream",
     "name": "stderr",
     "text": [
      "Epoch 17/100 - Training: 100%|██████████| 7/7 [00:06<00:00,  1.05it/s, Loss=0.0673]\n",
      "Epoch 17/100 - Validation: 100%|██████████| 7/7 [00:03<00:00,  2.13it/s, Loss=0.0685]\n"
     ]
    },
    {
     "output_type": "stream",
     "name": "stdout",
     "text": [
      "Epoch 17/100, Train Loss: 0.0673, Val Loss: 0.0685\n"
     ]
    },
    {
     "output_type": "stream",
     "name": "stderr",
     "text": [
      "Epoch 18/100 - Training: 100%|██████████| 7/7 [00:06<00:00,  1.09it/s, Loss=0.0632]\n",
      "Epoch 18/100 - Validation: 100%|██████████| 7/7 [00:03<00:00,  1.84it/s, Loss=0.0649]\n"
     ]
    },
    {
     "output_type": "stream",
     "name": "stdout",
     "text": [
      "Epoch 18/100, Train Loss: 0.0632, Val Loss: 0.0649\n"
     ]
    },
    {
     "output_type": "stream",
     "name": "stderr",
     "text": [
      "Epoch 19/100 - Training: 100%|██████████| 7/7 [00:06<00:00,  1.10it/s, Loss=0.0602]\n",
      "Epoch 19/100 - Validation: 100%|██████████| 7/7 [00:03<00:00,  2.22it/s, Loss=0.0616]\n"
     ]
    },
    {
     "output_type": "stream",
     "name": "stdout",
     "text": [
      "Epoch 19/100, Train Loss: 0.0602, Val Loss: 0.0616\n"
     ]
    },
    {
     "output_type": "stream",
     "name": "stderr",
     "text": [
      "Epoch 20/100 - Training: 100%|██████████| 7/7 [00:06<00:00,  1.03it/s, Loss=0.0576]\n",
      "Epoch 20/100 - Validation: 100%|██████████| 7/7 [00:03<00:00,  2.28it/s, Loss=0.0599]\n"
     ]
    },
    {
     "output_type": "stream",
     "name": "stdout",
     "text": [
      "Epoch 20/100, Train Loss: 0.0576, Val Loss: 0.0599\n"
     ]
    },
    {
     "output_type": "stream",
     "name": "stderr",
     "text": [
      "Epoch 21/100 - Training: 100%|██████████| 7/7 [00:06<00:00,  1.07it/s, Loss=0.0552]\n",
      "Epoch 21/100 - Validation: 100%|██████████| 7/7 [00:03<00:00,  2.28it/s, Loss=0.0575]\n"
     ]
    },
    {
     "output_type": "stream",
     "name": "stdout",
     "text": [
      "Epoch 21/100, Train Loss: 0.0552, Val Loss: 0.0575\n"
     ]
    },
    {
     "output_type": "stream",
     "name": "stderr",
     "text": [
      "Epoch 22/100 - Training: 100%|██████████| 7/7 [00:06<00:00,  1.02it/s, Loss=0.0533]\n",
      "Epoch 22/100 - Validation: 100%|██████████| 7/7 [00:03<00:00,  2.27it/s, Loss=0.0548]\n"
     ]
    },
    {
     "output_type": "stream",
     "name": "stdout",
     "text": [
      "Epoch 22/100, Train Loss: 0.0533, Val Loss: 0.0548\n"
     ]
    },
    {
     "output_type": "stream",
     "name": "stderr",
     "text": [
      "Epoch 23/100 - Training: 100%|██████████| 7/7 [00:06<00:00,  1.02it/s, Loss=0.0514]\n",
      "Epoch 23/100 - Validation: 100%|██████████| 7/7 [00:03<00:00,  2.21it/s, Loss=0.0544]\n"
     ]
    },
    {
     "output_type": "stream",
     "name": "stdout",
     "text": [
      "Epoch 23/100, Train Loss: 0.0514, Val Loss: 0.0544\n"
     ]
    },
    {
     "output_type": "stream",
     "name": "stderr",
     "text": [
      "Epoch 24/100 - Training: 100%|██████████| 7/7 [00:06<00:00,  1.08it/s, Loss=0.0498]\n",
      "Epoch 24/100 - Validation: 100%|██████████| 7/7 [00:03<00:00,  1.88it/s, Loss=0.0524]\n"
     ]
    },
    {
     "output_type": "stream",
     "name": "stdout",
     "text": [
      "Epoch 24/100, Train Loss: 0.0498, Val Loss: 0.0524\n"
     ]
    },
    {
     "output_type": "stream",
     "name": "stderr",
     "text": [
      "Epoch 25/100 - Training: 100%|██████████| 7/7 [00:06<00:00,  1.10it/s, Loss=0.0484]\n",
      "Epoch 25/100 - Validation: 100%|██████████| 7/7 [00:03<00:00,  1.80it/s, Loss=0.0506]\n"
     ]
    },
    {
     "output_type": "stream",
     "name": "stdout",
     "text": [
      "Epoch 25/100, Train Loss: 0.0484, Val Loss: 0.0506\n"
     ]
    },
    {
     "output_type": "stream",
     "name": "stderr",
     "text": [
      "Epoch 26/100 - Training: 100%|██████████| 7/7 [00:06<00:00,  1.02it/s, Loss=0.047]\n",
      "Epoch 26/100 - Validation: 100%|██████████| 7/7 [00:03<00:00,  2.24it/s, Loss=0.0496]\n"
     ]
    },
    {
     "output_type": "stream",
     "name": "stdout",
     "text": [
      "Epoch 26/100, Train Loss: 0.0470, Val Loss: 0.0496\n"
     ]
    },
    {
     "output_type": "stream",
     "name": "stderr",
     "text": [
      "Epoch 27/100 - Training: 100%|██████████| 7/7 [00:06<00:00,  1.02it/s, Loss=0.0459]\n",
      "Epoch 27/100 - Validation: 100%|██████████| 7/7 [00:03<00:00,  2.29it/s, Loss=0.0479]\n"
     ]
    },
    {
     "output_type": "stream",
     "name": "stdout",
     "text": [
      "Epoch 27/100, Train Loss: 0.0459, Val Loss: 0.0479\n"
     ]
    },
    {
     "output_type": "stream",
     "name": "stderr",
     "text": [
      "Epoch 28/100 - Training: 100%|██████████| 7/7 [00:06<00:00,  1.07it/s, Loss=0.0449]\n",
      "Epoch 28/100 - Validation: 100%|██████████| 7/7 [00:03<00:00,  1.93it/s, Loss=0.0474]\n"
     ]
    },
    {
     "output_type": "stream",
     "name": "stdout",
     "text": [
      "Epoch 28/100, Train Loss: 0.0449, Val Loss: 0.0474\n"
     ]
    },
    {
     "output_type": "stream",
     "name": "stderr",
     "text": [
      "Epoch 29/100 - Training: 100%|██████████| 7/7 [00:06<00:00,  1.10it/s, Loss=0.0442]\n",
      "Epoch 29/100 - Validation: 100%|██████████| 7/7 [00:03<00:00,  1.99it/s, Loss=0.0474]\n"
     ]
    },
    {
     "output_type": "stream",
     "name": "stdout",
     "text": [
      "Epoch 29/100, Train Loss: 0.0442, Val Loss: 0.0474\n"
     ]
    },
    {
     "output_type": "stream",
     "name": "stderr",
     "text": [
      "Epoch 30/100 - Training: 100%|██████████| 7/7 [00:06<00:00,  1.09it/s, Loss=0.0436]\n",
      "Epoch 30/100 - Validation: 100%|██████████| 7/7 [00:03<00:00,  2.27it/s, Loss=0.0463]\n"
     ]
    },
    {
     "output_type": "stream",
     "name": "stdout",
     "text": [
      "Epoch 30/100, Train Loss: 0.0436, Val Loss: 0.0463\n"
     ]
    },
    {
     "output_type": "stream",
     "name": "stderr",
     "text": [
      "Epoch 31/100 - Training: 100%|██████████| 7/7 [00:06<00:00,  1.01it/s, Loss=0.0426]\n",
      "Epoch 31/100 - Validation: 100%|██████████| 7/7 [00:03<00:00,  2.27it/s, Loss=0.0453]\n"
     ]
    },
    {
     "output_type": "stream",
     "name": "stdout",
     "text": [
      "Epoch 31/100, Train Loss: 0.0426, Val Loss: 0.0453\n"
     ]
    },
    {
     "output_type": "stream",
     "name": "stderr",
     "text": [
      "Epoch 32/100 - Training: 100%|██████████| 7/7 [00:06<00:00,  1.02it/s, Loss=0.042]\n",
      "Epoch 32/100 - Validation: 100%|██████████| 7/7 [00:03<00:00,  2.26it/s, Loss=0.045]\n"
     ]
    },
    {
     "output_type": "stream",
     "name": "stdout",
     "text": [
      "Epoch 32/100, Train Loss: 0.0420, Val Loss: 0.0450\n"
     ]
    },
    {
     "output_type": "stream",
     "name": "stderr",
     "text": [
      "Epoch 33/100 - Training: 100%|██████████| 7/7 [00:06<00:00,  1.04it/s, Loss=0.0412]\n",
      "Epoch 33/100 - Validation: 100%|██████████| 7/7 [00:03<00:00,  2.16it/s, Loss=0.0449]\n"
     ]
    },
    {
     "output_type": "stream",
     "name": "stdout",
     "text": [
      "Epoch 33/100, Train Loss: 0.0412, Val Loss: 0.0449\n"
     ]
    },
    {
     "output_type": "stream",
     "name": "stderr",
     "text": [
      "Epoch 34/100 - Training: 100%|██████████| 7/7 [00:06<00:00,  1.10it/s, Loss=0.0407]\n",
      "Epoch 34/100 - Validation: 100%|██████████| 7/7 [00:04<00:00,  1.71it/s, Loss=0.0443]\n"
     ]
    },
    {
     "output_type": "stream",
     "name": "stdout",
     "text": [
      "Epoch 34/100, Train Loss: 0.0407, Val Loss: 0.0443\n"
     ]
    },
    {
     "output_type": "stream",
     "name": "stderr",
     "text": [
      "Epoch 35/100 - Training: 100%|██████████| 7/7 [00:06<00:00,  1.10it/s, Loss=0.0401]\n",
      "Epoch 35/100 - Validation: 100%|██████████| 7/7 [00:03<00:00,  2.26it/s, Loss=0.0434]\n"
     ]
    },
    {
     "output_type": "stream",
     "name": "stdout",
     "text": [
      "Epoch 35/100, Train Loss: 0.0401, Val Loss: 0.0434\n"
     ]
    },
    {
     "output_type": "stream",
     "name": "stderr",
     "text": [
      "Epoch 36/100 - Training: 100%|██████████| 7/7 [00:06<00:00,  1.04it/s, Loss=0.0396]\n",
      "Epoch 36/100 - Validation: 100%|██████████| 7/7 [00:03<00:00,  2.24it/s, Loss=0.0433]\n"
     ]
    },
    {
     "output_type": "stream",
     "name": "stdout",
     "text": [
      "Epoch 36/100, Train Loss: 0.0396, Val Loss: 0.0433\n"
     ]
    },
    {
     "output_type": "stream",
     "name": "stderr",
     "text": [
      "Epoch 37/100 - Training: 100%|██████████| 7/7 [00:06<00:00,  1.04it/s, Loss=0.0391]\n",
      "Epoch 37/100 - Validation: 100%|██████████| 7/7 [00:03<00:00,  2.27it/s, Loss=0.0419]\n"
     ]
    },
    {
     "output_type": "stream",
     "name": "stdout",
     "text": [
      "Epoch 37/100, Train Loss: 0.0391, Val Loss: 0.0419\n"
     ]
    },
    {
     "output_type": "stream",
     "name": "stderr",
     "text": [
      "Epoch 38/100 - Training: 100%|██████████| 7/7 [00:06<00:00,  1.07it/s, Loss=0.0387]\n",
      "Epoch 38/100 - Validation: 100%|██████████| 7/7 [00:03<00:00,  1.90it/s, Loss=0.0428]\n"
     ]
    },
    {
     "output_type": "stream",
     "name": "stdout",
     "text": [
      "Epoch 38/100, Train Loss: 0.0387, Val Loss: 0.0428\n"
     ]
    },
    {
     "output_type": "stream",
     "name": "stderr",
     "text": [
      "Epoch 39/100 - Training: 100%|██████████| 7/7 [00:06<00:00,  1.10it/s, Loss=0.0384]\n",
      "Epoch 39/100 - Validation: 100%|██████████| 7/7 [00:03<00:00,  2.02it/s, Loss=0.0412]\n"
     ]
    },
    {
     "output_type": "stream",
     "name": "stdout",
     "text": [
      "Epoch 39/100, Train Loss: 0.0384, Val Loss: 0.0412\n"
     ]
    },
    {
     "output_type": "stream",
     "name": "stderr",
     "text": [
      "Epoch 40/100 - Training: 100%|██████████| 7/7 [00:06<00:00,  1.07it/s, Loss=0.0382]\n",
      "Epoch 40/100 - Validation: 100%|██████████| 7/7 [00:03<00:00,  2.23it/s, Loss=0.0422]\n"
     ]
    },
    {
     "output_type": "stream",
     "name": "stdout",
     "text": [
      "Epoch 40/100, Train Loss: 0.0382, Val Loss: 0.0422\n"
     ]
    },
    {
     "output_type": "stream",
     "name": "stderr",
     "text": [
      "Epoch 41/100 - Training: 100%|██████████| 7/7 [00:06<00:00,  1.01it/s, Loss=0.0378]\n",
      "Epoch 41/100 - Validation: 100%|██████████| 7/7 [00:03<00:00,  2.23it/s, Loss=0.0409]\n"
     ]
    },
    {
     "output_type": "stream",
     "name": "stdout",
     "text": [
      "Epoch 41/100, Train Loss: 0.0378, Val Loss: 0.0409\n"
     ]
    },
    {
     "output_type": "stream",
     "name": "stderr",
     "text": [
      "Epoch 42/100 - Training: 100%|██████████| 7/7 [00:06<00:00,  1.01it/s, Loss=0.0371]\n",
      "Epoch 42/100 - Validation: 100%|██████████| 7/7 [00:03<00:00,  2.24it/s, Loss=0.0408]\n"
     ]
    },
    {
     "output_type": "stream",
     "name": "stdout",
     "text": [
      "Epoch 42/100, Train Loss: 0.0371, Val Loss: 0.0408\n"
     ]
    },
    {
     "output_type": "stream",
     "name": "stderr",
     "text": [
      "Epoch 43/100 - Training: 100%|██████████| 7/7 [00:06<00:00,  1.06it/s, Loss=0.0373]\n",
      "Epoch 43/100 - Validation: 100%|██████████| 7/7 [00:03<00:00,  2.01it/s, Loss=0.0414]\n"
     ]
    },
    {
     "output_type": "stream",
     "name": "stdout",
     "text": [
      "Epoch 43/100, Train Loss: 0.0373, Val Loss: 0.0414\n"
     ]
    },
    {
     "output_type": "stream",
     "name": "stderr",
     "text": [
      "Epoch 44/100 - Training: 100%|██████████| 7/7 [00:06<00:00,  1.10it/s, Loss=0.0369]\n",
      "Epoch 44/100 - Validation: 100%|██████████| 7/7 [00:03<00:00,  2.10it/s, Loss=0.0408]\n"
     ]
    },
    {
     "output_type": "stream",
     "name": "stdout",
     "text": [
      "Epoch 44/100, Train Loss: 0.0369, Val Loss: 0.0408\n"
     ]
    },
    {
     "output_type": "stream",
     "name": "stderr",
     "text": [
      "Epoch 45/100 - Training: 100%|██████████| 7/7 [00:06<00:00,  1.05it/s, Loss=0.0365]\n",
      "Epoch 45/100 - Validation: 100%|██████████| 7/7 [00:03<00:00,  2.27it/s, Loss=0.0396]\n"
     ]
    },
    {
     "output_type": "stream",
     "name": "stdout",
     "text": [
      "Epoch 45/100, Train Loss: 0.0365, Val Loss: 0.0396\n"
     ]
    },
    {
     "output_type": "stream",
     "name": "stderr",
     "text": [
      "Epoch 46/100 - Training: 100%|██████████| 7/7 [00:06<00:00,  1.02it/s, Loss=0.036]\n",
      "Epoch 46/100 - Validation: 100%|██████████| 7/7 [00:03<00:00,  2.28it/s, Loss=0.0394]\n"
     ]
    },
    {
     "output_type": "stream",
     "name": "stdout",
     "text": [
      "Epoch 46/100, Train Loss: 0.0360, Val Loss: 0.0394\n"
     ]
    },
    {
     "output_type": "stream",
     "name": "stderr",
     "text": [
      "Epoch 47/100 - Training: 100%|██████████| 7/7 [00:06<00:00,  1.06it/s, Loss=0.0357]\n",
      "Epoch 47/100 - Validation: 100%|██████████| 7/7 [00:04<00:00,  1.70it/s, Loss=0.0399]\n"
     ]
    },
    {
     "output_type": "stream",
     "name": "stdout",
     "text": [
      "Epoch 47/100, Train Loss: 0.0357, Val Loss: 0.0399\n"
     ]
    },
    {
     "output_type": "stream",
     "name": "stderr",
     "text": [
      "Epoch 48/100 - Training: 100%|██████████| 7/7 [00:06<00:00,  1.07it/s, Loss=0.0355]\n",
      "Epoch 48/100 - Validation: 100%|██████████| 7/7 [00:03<00:00,  2.27it/s, Loss=0.0381]\n"
     ]
    },
    {
     "output_type": "stream",
     "name": "stdout",
     "text": [
      "Epoch 48/100, Train Loss: 0.0355, Val Loss: 0.0381\n"
     ]
    },
    {
     "output_type": "stream",
     "name": "stderr",
     "text": [
      "Epoch 49/100 - Training: 100%|██████████| 7/7 [00:06<00:00,  1.08it/s, Loss=0.0351]\n",
      "Epoch 49/100 - Validation: 100%|██████████| 7/7 [00:03<00:00,  2.29it/s, Loss=0.0382]\n"
     ]
    },
    {
     "output_type": "stream",
     "name": "stdout",
     "text": [
      "Epoch 49/100, Train Loss: 0.0351, Val Loss: 0.0382\n"
     ]
    },
    {
     "output_type": "stream",
     "name": "stderr",
     "text": [
      "Epoch 50/100 - Training: 100%|██████████| 7/7 [00:06<00:00,  1.03it/s, Loss=0.0349]\n",
      "Epoch 50/100 - Validation: 100%|██████████| 7/7 [00:03<00:00,  2.23it/s, Loss=0.0385]\n"
     ]
    },
    {
     "output_type": "stream",
     "name": "stdout",
     "text": [
      "Epoch 50/100, Train Loss: 0.0349, Val Loss: 0.0385\n"
     ]
    },
    {
     "output_type": "stream",
     "name": "stderr",
     "text": [
      "Epoch 51/100 - Training: 100%|██████████| 7/7 [00:06<00:00,  1.08it/s, Loss=0.0342]\n",
      "Epoch 51/100 - Validation: 100%|██████████| 7/7 [00:03<00:00,  1.85it/s, Loss=0.037]\n"
     ]
    },
    {
     "output_type": "stream",
     "name": "stdout",
     "text": [
      "Epoch 51/100, Train Loss: 0.0342, Val Loss: 0.0370\n"
     ]
    },
    {
     "output_type": "stream",
     "name": "stderr",
     "text": [
      "Epoch 52/100 - Training: 100%|██████████| 7/7 [00:06<00:00,  1.08it/s, Loss=0.0343]\n",
      "Epoch 52/100 - Validation: 100%|██████████| 7/7 [00:03<00:00,  2.03it/s, Loss=0.0384]\n"
     ]
    },
    {
     "output_type": "stream",
     "name": "stdout",
     "text": [
      "Epoch 52/100, Train Loss: 0.0343, Val Loss: 0.0384\n"
     ]
    },
    {
     "output_type": "stream",
     "name": "stderr",
     "text": [
      "Epoch 53/100 - Training: 100%|██████████| 7/7 [00:06<00:00,  1.06it/s, Loss=0.0342]\n",
      "Epoch 53/100 - Validation: 100%|██████████| 7/7 [00:03<00:00,  2.28it/s, Loss=0.0369]\n"
     ]
    },
    {
     "output_type": "stream",
     "name": "stdout",
     "text": [
      "Epoch 53/100, Train Loss: 0.0342, Val Loss: 0.0369\n"
     ]
    },
    {
     "output_type": "stream",
     "name": "stderr",
     "text": [
      "Epoch 54/100 - Training: 100%|██████████| 7/7 [00:06<00:00,  1.01it/s, Loss=0.0329]\n",
      "Epoch 54/100 - Validation: 100%|██████████| 7/7 [00:03<00:00,  2.24it/s, Loss=0.0377]\n"
     ]
    },
    {
     "output_type": "stream",
     "name": "stdout",
     "text": [
      "Epoch 54/100, Train Loss: 0.0329, Val Loss: 0.0377\n"
     ]
    },
    {
     "output_type": "stream",
     "name": "stderr",
     "text": [
      "Epoch 55/100 - Training: 100%|██████████| 7/7 [00:06<00:00,  1.09it/s, Loss=0.0325]\n",
      "Epoch 55/100 - Validation: 100%|██████████| 7/7 [00:03<00:00,  1.86it/s, Loss=0.0355]\n"
     ]
    },
    {
     "output_type": "stream",
     "name": "stdout",
     "text": [
      "Epoch 55/100, Train Loss: 0.0325, Val Loss: 0.0355\n"
     ]
    },
    {
     "output_type": "stream",
     "name": "stderr",
     "text": [
      "Epoch 56/100 - Training: 100%|██████████| 7/7 [00:06<00:00,  1.10it/s, Loss=0.0323]\n",
      "Epoch 56/100 - Validation: 100%|██████████| 7/7 [00:03<00:00,  2.07it/s, Loss=0.0362]\n"
     ]
    },
    {
     "output_type": "stream",
     "name": "stdout",
     "text": [
      "Epoch 56/100, Train Loss: 0.0323, Val Loss: 0.0362\n"
     ]
    },
    {
     "output_type": "stream",
     "name": "stderr",
     "text": [
      "Epoch 57/100 - Training: 100%|██████████| 7/7 [00:06<00:00,  1.04it/s, Loss=0.0327]\n",
      "Epoch 57/100 - Validation: 100%|██████████| 7/7 [00:03<00:00,  2.27it/s, Loss=0.0391]\n"
     ]
    },
    {
     "output_type": "stream",
     "name": "stdout",
     "text": [
      "Epoch 57/100, Train Loss: 0.0327, Val Loss: 0.0391\n"
     ]
    },
    {
     "output_type": "stream",
     "name": "stderr",
     "text": [
      "Epoch 58/100 - Training: 100%|██████████| 7/7 [00:07<00:00,  1.00s/it, Loss=0.032]\n",
      "Epoch 58/100 - Validation: 100%|██████████| 7/7 [00:03<00:00,  2.26it/s, Loss=0.0366]\n"
     ]
    },
    {
     "output_type": "stream",
     "name": "stdout",
     "text": [
      "Epoch 58/100, Train Loss: 0.0320, Val Loss: 0.0366\n"
     ]
    },
    {
     "output_type": "stream",
     "name": "stderr",
     "text": [
      "Epoch 59/100 - Training: 100%|██████████| 7/7 [00:06<00:00,  1.08it/s, Loss=0.0316]\n",
      "Epoch 59/100 - Validation: 100%|██████████| 7/7 [00:03<00:00,  1.85it/s, Loss=0.038]\n"
     ]
    },
    {
     "output_type": "stream",
     "name": "stdout",
     "text": [
      "Epoch 59/100, Train Loss: 0.0316, Val Loss: 0.0380\n"
     ]
    },
    {
     "output_type": "stream",
     "name": "stderr",
     "text": [
      "Epoch 60/100 - Training: 100%|██████████| 7/7 [00:06<00:00,  1.09it/s, Loss=0.0312]\n",
      "Epoch 60/100 - Validation: 100%|██████████| 7/7 [00:03<00:00,  2.29it/s, Loss=0.0342]\n"
     ]
    },
    {
     "output_type": "stream",
     "name": "stdout",
     "text": [
      "Epoch 60/100, Train Loss: 0.0312, Val Loss: 0.0342\n"
     ]
    },
    {
     "output_type": "stream",
     "name": "stderr",
     "text": [
      "Epoch 61/100 - Training: 100%|██████████| 7/7 [00:06<00:00,  1.05it/s, Loss=0.0311]\n",
      "Epoch 61/100 - Validation: 100%|██████████| 7/7 [00:03<00:00,  2.29it/s, Loss=0.0351]\n"
     ]
    },
    {
     "output_type": "stream",
     "name": "stdout",
     "text": [
      "Epoch 61/100, Train Loss: 0.0311, Val Loss: 0.0351\n"
     ]
    },
    {
     "output_type": "stream",
     "name": "stderr",
     "text": [
      "Epoch 62/100 - Training: 100%|██████████| 7/7 [00:06<00:00,  1.03it/s, Loss=0.0308]\n",
      "Epoch 62/100 - Validation: 100%|██████████| 7/7 [00:03<00:00,  2.29it/s, Loss=0.0348]\n"
     ]
    },
    {
     "output_type": "stream",
     "name": "stdout",
     "text": [
      "Epoch 62/100, Train Loss: 0.0308, Val Loss: 0.0348\n"
     ]
    },
    {
     "output_type": "stream",
     "name": "stderr",
     "text": [
      "Epoch 63/100 - Training: 100%|██████████| 7/7 [00:06<00:00,  1.10it/s, Loss=0.0311]\n",
      "Epoch 63/100 - Validation: 100%|██████████| 7/7 [00:03<00:00,  1.81it/s, Loss=0.0348]\n"
     ]
    },
    {
     "output_type": "stream",
     "name": "stdout",
     "text": [
      "Epoch 63/100, Train Loss: 0.0311, Val Loss: 0.0348\n"
     ]
    },
    {
     "output_type": "stream",
     "name": "stderr",
     "text": [
      "Epoch 64/100 - Training: 100%|██████████| 7/7 [00:06<00:00,  1.10it/s, Loss=0.0304]\n",
      "Epoch 64/100 - Validation: 100%|██████████| 7/7 [00:03<00:00,  2.28it/s, Loss=0.0342]\n"
     ]
    },
    {
     "output_type": "stream",
     "name": "stdout",
     "text": [
      "Epoch 64/100, Train Loss: 0.0304, Val Loss: 0.0342\n"
     ]
    },
    {
     "output_type": "stream",
     "name": "stderr",
     "text": [
      "Epoch 65/100 - Training: 100%|██████████| 7/7 [00:06<00:00,  1.02it/s, Loss=0.0305]\n",
      "Epoch 65/100 - Validation: 100%|██████████| 7/7 [00:03<00:00,  2.26it/s, Loss=0.0338]\n"
     ]
    },
    {
     "output_type": "stream",
     "name": "stdout",
     "text": [
      "Epoch 65/100, Train Loss: 0.0305, Val Loss: 0.0338\n"
     ]
    },
    {
     "output_type": "stream",
     "name": "stderr",
     "text": [
      "Epoch 66/100 - Training: 100%|██████████| 7/7 [00:06<00:00,  1.01it/s, Loss=0.0299]\n",
      "Epoch 66/100 - Validation: 100%|██████████| 7/7 [00:03<00:00,  2.27it/s, Loss=0.0344]\n"
     ]
    },
    {
     "output_type": "stream",
     "name": "stdout",
     "text": [
      "Epoch 66/100, Train Loss: 0.0299, Val Loss: 0.0344\n"
     ]
    },
    {
     "output_type": "stream",
     "name": "stderr",
     "text": [
      "Epoch 67/100 - Training: 100%|██████████| 7/7 [00:06<00:00,  1.10it/s, Loss=0.0299]\n",
      "Epoch 67/100 - Validation: 100%|██████████| 7/7 [00:03<00:00,  1.83it/s, Loss=0.0328]\n"
     ]
    },
    {
     "output_type": "stream",
     "name": "stdout",
     "text": [
      "Epoch 67/100, Train Loss: 0.0299, Val Loss: 0.0328\n"
     ]
    },
    {
     "output_type": "stream",
     "name": "stderr",
     "text": [
      "Epoch 68/100 - Training: 100%|██████████| 7/7 [00:06<00:00,  1.10it/s, Loss=0.0296]\n",
      "Epoch 68/100 - Validation: 100%|██████████| 7/7 [00:03<00:00,  2.26it/s, Loss=0.0391]\n"
     ]
    },
    {
     "output_type": "stream",
     "name": "stdout",
     "text": [
      "Epoch 68/100, Train Loss: 0.0296, Val Loss: 0.0391\n"
     ]
    },
    {
     "output_type": "stream",
     "name": "stderr",
     "text": [
      "Epoch 69/100 - Training: 100%|██████████| 7/7 [00:06<00:00,  1.03it/s, Loss=0.0293]\n",
      "Epoch 69/100 - Validation: 100%|██████████| 7/7 [00:03<00:00,  2.27it/s, Loss=0.0355]\n"
     ]
    },
    {
     "output_type": "stream",
     "name": "stdout",
     "text": [
      "Epoch 69/100, Train Loss: 0.0293, Val Loss: 0.0355\n"
     ]
    },
    {
     "output_type": "stream",
     "name": "stderr",
     "text": [
      "Epoch 70/100 - Training: 100%|██████████| 7/7 [00:06<00:00,  1.05it/s, Loss=0.029]\n",
      "Epoch 70/100 - Validation: 100%|██████████| 7/7 [00:03<00:00,  1.81it/s, Loss=0.0345]\n"
     ]
    },
    {
     "output_type": "stream",
     "name": "stdout",
     "text": [
      "Epoch 70/100, Train Loss: 0.0290, Val Loss: 0.0345\n"
     ]
    },
    {
     "output_type": "stream",
     "name": "stderr",
     "text": [
      "Epoch 71/100 - Training: 100%|██████████| 7/7 [00:06<00:00,  1.07it/s, Loss=0.0291]\n",
      "Epoch 71/100 - Validation: 100%|██████████| 7/7 [00:03<00:00,  1.84it/s, Loss=0.0334]\n"
     ]
    },
    {
     "output_type": "stream",
     "name": "stdout",
     "text": [
      "Epoch 71/100, Train Loss: 0.0291, Val Loss: 0.0334\n"
     ]
    },
    {
     "output_type": "stream",
     "name": "stderr",
     "text": [
      "Epoch 72/100 - Training: 100%|██████████| 7/7 [00:06<00:00,  1.08it/s, Loss=0.0286]\n",
      "Epoch 72/100 - Validation: 100%|██████████| 7/7 [00:03<00:00,  2.30it/s, Loss=0.0319]\n"
     ]
    },
    {
     "output_type": "stream",
     "name": "stdout",
     "text": [
      "Epoch 72/100, Train Loss: 0.0286, Val Loss: 0.0319\n"
     ]
    },
    {
     "output_type": "stream",
     "name": "stderr",
     "text": [
      "Epoch 73/100 - Training: 100%|██████████| 7/7 [00:06<00:00,  1.02it/s, Loss=0.0286]\n",
      "Epoch 73/100 - Validation: 100%|██████████| 7/7 [00:03<00:00,  2.28it/s, Loss=0.0319]\n"
     ]
    },
    {
     "output_type": "stream",
     "name": "stdout",
     "text": [
      "Epoch 73/100, Train Loss: 0.0286, Val Loss: 0.0319\n"
     ]
    },
    {
     "output_type": "stream",
     "name": "stderr",
     "text": [
      "Epoch 74/100 - Training: 100%|██████████| 7/7 [00:06<00:00,  1.04it/s, Loss=0.0283]\n",
      "Epoch 74/100 - Validation: 100%|██████████| 7/7 [00:03<00:00,  2.23it/s, Loss=0.0324]\n"
     ]
    },
    {
     "output_type": "stream",
     "name": "stdout",
     "text": [
      "Epoch 74/100, Train Loss: 0.0283, Val Loss: 0.0324\n"
     ]
    },
    {
     "output_type": "stream",
     "name": "stderr",
     "text": [
      "Epoch 75/100 - Training: 100%|██████████| 7/7 [00:06<00:00,  1.10it/s, Loss=0.0283]\n",
      "Epoch 75/100 - Validation: 100%|██████████| 7/7 [00:03<00:00,  1.85it/s, Loss=0.0315]\n"
     ]
    },
    {
     "output_type": "stream",
     "name": "stdout",
     "text": [
      "Epoch 75/100, Train Loss: 0.0283, Val Loss: 0.0315\n"
     ]
    },
    {
     "output_type": "stream",
     "name": "stderr",
     "text": [
      "Epoch 76/100 - Training: 100%|██████████| 7/7 [00:06<00:00,  1.10it/s, Loss=0.0285]\n",
      "Epoch 76/100 - Validation: 100%|██████████| 7/7 [00:03<00:00,  2.23it/s, Loss=0.0315]\n"
     ]
    },
    {
     "output_type": "stream",
     "name": "stdout",
     "text": [
      "Epoch 76/100, Train Loss: 0.0285, Val Loss: 0.0315\n"
     ]
    },
    {
     "output_type": "stream",
     "name": "stderr",
     "text": [
      "Epoch 77/100 - Training: 100%|██████████| 7/7 [00:06<00:00,  1.03it/s, Loss=0.0284]\n",
      "Epoch 77/100 - Validation: 100%|██████████| 7/7 [00:03<00:00,  2.28it/s, Loss=0.0358]\n"
     ]
    },
    {
     "output_type": "stream",
     "name": "stdout",
     "text": [
      "Epoch 77/100, Train Loss: 0.0284, Val Loss: 0.0358\n"
     ]
    },
    {
     "output_type": "stream",
     "name": "stderr",
     "text": [
      "Epoch 78/100 - Training: 100%|██████████| 7/7 [00:06<00:00,  1.05it/s, Loss=0.0284]\n",
      "Epoch 78/100 - Validation: 100%|██████████| 7/7 [00:03<00:00,  2.09it/s, Loss=0.0321]\n"
     ]
    },
    {
     "output_type": "stream",
     "name": "stdout",
     "text": [
      "Epoch 78/100, Train Loss: 0.0284, Val Loss: 0.0321\n"
     ]
    },
    {
     "output_type": "stream",
     "name": "stderr",
     "text": [
      "Epoch 79/100 - Training: 100%|██████████| 7/7 [00:06<00:00,  1.09it/s, Loss=0.0279]\n",
      "Epoch 79/100 - Validation: 100%|██████████| 7/7 [00:03<00:00,  2.01it/s, Loss=0.0315]\n"
     ]
    },
    {
     "output_type": "stream",
     "name": "stdout",
     "text": [
      "Epoch 79/100, Train Loss: 0.0279, Val Loss: 0.0315\n"
     ]
    },
    {
     "output_type": "stream",
     "name": "stderr",
     "text": [
      "Epoch 80/100 - Training: 100%|██████████| 7/7 [00:06<00:00,  1.08it/s, Loss=0.028]\n",
      "Epoch 80/100 - Validation: 100%|██████████| 7/7 [00:03<00:00,  2.23it/s, Loss=0.0327]\n"
     ]
    },
    {
     "output_type": "stream",
     "name": "stdout",
     "text": [
      "Epoch 80/100, Train Loss: 0.0280, Val Loss: 0.0327\n"
     ]
    },
    {
     "output_type": "stream",
     "name": "stderr",
     "text": [
      "Epoch 81/100 - Training: 100%|██████████| 7/7 [00:06<00:00,  1.03it/s, Loss=0.0276]\n",
      "Epoch 81/100 - Validation: 100%|██████████| 7/7 [00:03<00:00,  2.25it/s, Loss=0.0313]\n"
     ]
    },
    {
     "output_type": "stream",
     "name": "stdout",
     "text": [
      "Epoch 81/100, Train Loss: 0.0276, Val Loss: 0.0313\n"
     ]
    },
    {
     "output_type": "stream",
     "name": "stderr",
     "text": [
      "Epoch 82/100 - Training: 100%|██████████| 7/7 [00:06<00:00,  1.03it/s, Loss=0.0272]\n",
      "Epoch 82/100 - Validation: 100%|██████████| 7/7 [00:03<00:00,  2.24it/s, Loss=0.032]\n"
     ]
    },
    {
     "output_type": "stream",
     "name": "stdout",
     "text": [
      "Epoch 82/100, Train Loss: 0.0272, Val Loss: 0.0320\n"
     ]
    },
    {
     "output_type": "stream",
     "name": "stderr",
     "text": [
      "Epoch 83/100 - Training: 100%|██████████| 7/7 [00:06<00:00,  1.10it/s, Loss=0.0271]\n",
      "Epoch 83/100 - Validation: 100%|██████████| 7/7 [00:03<00:00,  1.79it/s, Loss=0.0305]\n"
     ]
    },
    {
     "output_type": "stream",
     "name": "stdout",
     "text": [
      "Epoch 83/100, Train Loss: 0.0271, Val Loss: 0.0305\n"
     ]
    },
    {
     "output_type": "stream",
     "name": "stderr",
     "text": [
      "Epoch 84/100 - Training: 100%|██████████| 7/7 [00:06<00:00,  1.10it/s, Loss=0.0268]\n",
      "Epoch 84/100 - Validation: 100%|██████████| 7/7 [00:03<00:00,  2.17it/s, Loss=0.0316]\n"
     ]
    },
    {
     "output_type": "stream",
     "name": "stdout",
     "text": [
      "Epoch 84/100, Train Loss: 0.0268, Val Loss: 0.0316\n"
     ]
    },
    {
     "output_type": "stream",
     "name": "stderr",
     "text": [
      "Epoch 85/100 - Training: 100%|██████████| 7/7 [00:06<00:00,  1.03it/s, Loss=0.0269]\n",
      "Epoch 85/100 - Validation: 100%|██████████| 7/7 [00:03<00:00,  2.28it/s, Loss=0.0319]\n"
     ]
    },
    {
     "output_type": "stream",
     "name": "stdout",
     "text": [
      "Epoch 85/100, Train Loss: 0.0269, Val Loss: 0.0319\n"
     ]
    },
    {
     "output_type": "stream",
     "name": "stderr",
     "text": [
      "Epoch 86/100 - Training: 100%|██████████| 7/7 [00:06<00:00,  1.04it/s, Loss=0.027]\n",
      "Epoch 86/100 - Validation: 100%|██████████| 7/7 [00:03<00:00,  2.26it/s, Loss=0.0324]\n"
     ]
    },
    {
     "output_type": "stream",
     "name": "stdout",
     "text": [
      "Epoch 86/100, Train Loss: 0.0270, Val Loss: 0.0324\n"
     ]
    },
    {
     "output_type": "stream",
     "name": "stderr",
     "text": [
      "Epoch 87/100 - Training: 100%|██████████| 7/7 [00:06<00:00,  1.10it/s, Loss=0.0266]\n",
      "Epoch 87/100 - Validation: 100%|██████████| 7/7 [00:03<00:00,  1.86it/s, Loss=0.0311]\n"
     ]
    },
    {
     "output_type": "stream",
     "name": "stdout",
     "text": [
      "Epoch 87/100, Train Loss: 0.0266, Val Loss: 0.0311\n"
     ]
    },
    {
     "output_type": "stream",
     "name": "stderr",
     "text": [
      "Epoch 88/100 - Training: 100%|██████████| 7/7 [00:06<00:00,  1.08it/s, Loss=0.0265]\n",
      "Epoch 88/100 - Validation: 100%|██████████| 7/7 [00:03<00:00,  2.24it/s, Loss=0.0303]\n"
     ]
    },
    {
     "output_type": "stream",
     "name": "stdout",
     "text": [
      "Epoch 88/100, Train Loss: 0.0265, Val Loss: 0.0303\n"
     ]
    },
    {
     "output_type": "stream",
     "name": "stderr",
     "text": [
      "Epoch 89/100 - Training: 100%|██████████| 7/7 [00:06<00:00,  1.03it/s, Loss=0.0265]\n",
      "Epoch 89/100 - Validation: 100%|██████████| 7/7 [00:03<00:00,  2.27it/s, Loss=0.0309]\n"
     ]
    },
    {
     "output_type": "stream",
     "name": "stdout",
     "text": [
      "Epoch 89/100, Train Loss: 0.0265, Val Loss: 0.0309\n"
     ]
    },
    {
     "output_type": "stream",
     "name": "stderr",
     "text": [
      "Epoch 90/100 - Training: 100%|██████████| 7/7 [00:06<00:00,  1.06it/s, Loss=0.0269]\n",
      "Epoch 90/100 - Validation: 100%|██████████| 7/7 [00:03<00:00,  2.10it/s, Loss=0.0319]\n"
     ]
    },
    {
     "output_type": "stream",
     "name": "stdout",
     "text": [
      "Epoch 90/100, Train Loss: 0.0269, Val Loss: 0.0319\n"
     ]
    },
    {
     "output_type": "stream",
     "name": "stderr",
     "text": [
      "Epoch 91/100 - Training: 100%|██████████| 7/7 [00:06<00:00,  1.10it/s, Loss=0.0269]\n",
      "Epoch 91/100 - Validation: 100%|██████████| 7/7 [00:03<00:00,  2.00it/s, Loss=0.031]\n"
     ]
    },
    {
     "output_type": "stream",
     "name": "stdout",
     "text": [
      "Epoch 91/100, Train Loss: 0.0269, Val Loss: 0.0310\n"
     ]
    },
    {
     "output_type": "stream",
     "name": "stderr",
     "text": [
      "Epoch 92/100 - Training: 100%|██████████| 7/7 [00:06<00:00,  1.05it/s, Loss=0.0271]\n",
      "Epoch 92/100 - Validation: 100%|██████████| 7/7 [00:03<00:00,  2.28it/s, Loss=0.0343]\n"
     ]
    },
    {
     "output_type": "stream",
     "name": "stdout",
     "text": [
      "Epoch 92/100, Train Loss: 0.0271, Val Loss: 0.0343\n"
     ]
    },
    {
     "output_type": "stream",
     "name": "stderr",
     "text": [
      "Epoch 93/100 - Training: 100%|██████████| 7/7 [00:06<00:00,  1.02it/s, Loss=0.0274]\n",
      "Epoch 93/100 - Validation: 100%|██████████| 7/7 [00:03<00:00,  2.28it/s, Loss=0.0321]\n"
     ]
    },
    {
     "output_type": "stream",
     "name": "stdout",
     "text": [
      "Epoch 93/100, Train Loss: 0.0274, Val Loss: 0.0321\n"
     ]
    },
    {
     "output_type": "stream",
     "name": "stderr",
     "text": [
      "Epoch 94/100 - Training: 100%|██████████| 7/7 [00:06<00:00,  1.07it/s, Loss=0.0274]\n",
      "Epoch 94/100 - Validation: 100%|██████████| 7/7 [00:04<00:00,  1.70it/s, Loss=0.0324]\n"
     ]
    },
    {
     "output_type": "stream",
     "name": "stdout",
     "text": [
      "Epoch 94/100, Train Loss: 0.0274, Val Loss: 0.0324\n"
     ]
    },
    {
     "output_type": "stream",
     "name": "stderr",
     "text": [
      "Epoch 95/100 - Training: 100%|██████████| 7/7 [00:06<00:00,  1.07it/s, Loss=0.0268]\n",
      "Epoch 95/100 - Validation: 100%|██████████| 7/7 [00:03<00:00,  2.26it/s, Loss=0.0302]\n"
     ]
    },
    {
     "output_type": "stream",
     "name": "stdout",
     "text": [
      "Epoch 95/100, Train Loss: 0.0268, Val Loss: 0.0302\n"
     ]
    },
    {
     "output_type": "stream",
     "name": "stderr",
     "text": [
      "Epoch 96/100 - Training: 100%|██████████| 7/7 [00:06<00:00,  1.03it/s, Loss=0.0267]\n",
      "Epoch 96/100 - Validation: 100%|██████████| 7/7 [00:03<00:00,  2.26it/s, Loss=0.0313]\n"
     ]
    },
    {
     "output_type": "stream",
     "name": "stdout",
     "text": [
      "Epoch 96/100, Train Loss: 0.0267, Val Loss: 0.0313\n"
     ]
    },
    {
     "output_type": "stream",
     "name": "stderr",
     "text": [
      "Epoch 97/100 - Training: 100%|██████████| 7/7 [00:06<00:00,  1.04it/s, Loss=0.0264]\n",
      "Epoch 97/100 - Validation: 100%|██████████| 7/7 [00:03<00:00,  2.09it/s, Loss=0.0307]\n"
     ]
    },
    {
     "output_type": "stream",
     "name": "stdout",
     "text": [
      "Epoch 97/100, Train Loss: 0.0264, Val Loss: 0.0307\n"
     ]
    },
    {
     "output_type": "stream",
     "name": "stderr",
     "text": [
      "Epoch 98/100 - Training: 100%|██████████| 7/7 [00:06<00:00,  1.10it/s, Loss=0.0268]\n",
      "Epoch 98/100 - Validation: 100%|██████████| 7/7 [00:03<00:00,  1.99it/s, Loss=0.0344]\n"
     ]
    },
    {
     "output_type": "stream",
     "name": "stdout",
     "text": [
      "Epoch 98/100, Train Loss: 0.0268, Val Loss: 0.0344\n"
     ]
    },
    {
     "output_type": "stream",
     "name": "stderr",
     "text": [
      "Epoch 99/100 - Training: 100%|██████████| 7/7 [00:06<00:00,  1.06it/s, Loss=0.0265]\n",
      "Epoch 99/100 - Validation: 100%|██████████| 7/7 [00:03<00:00,  2.29it/s, Loss=0.0332]\n"
     ]
    },
    {
     "output_type": "stream",
     "name": "stdout",
     "text": [
      "Epoch 99/100, Train Loss: 0.0265, Val Loss: 0.0332\n"
     ]
    },
    {
     "output_type": "stream",
     "name": "stderr",
     "text": [
      "Epoch 100/100 - Training: 100%|██████████| 7/7 [00:06<00:00,  1.02it/s, Loss=0.0264]\n",
      "Epoch 100/100 - Validation: 100%|██████████| 7/7 [00:03<00:00,  2.29it/s, Loss=0.0315]\n"
     ]
    },
    {
     "output_type": "stream",
     "name": "stdout",
     "text": [
      "Epoch 100/100, Train Loss: 0.0264, Val Loss: 0.0315\n"
     ]
    }
   ],
   "source": [
    "import os\n",
    "from PIL import Image\n",
    "import torch\n",
    "from torch.utils.data import Dataset, DataLoader\n",
    "import torchvision.transforms as transforms\n",
    "import torch.nn as nn\n",
    "import torch.nn.functional as F\n",
    "import torch.optim as optim\n",
    "from sklearn.metrics import jaccard_score\n",
    "from tqdm import tqdm\n",
    "\n",
    "os.environ[\"CUDA_DEVICE_ORDER\"] = \"PCI_BUS_ID\"\n",
    "os.environ[\"CUDA_VISIBLE_DEVICES\"] = \"0\"\n",
    "\n",
    "\n",
    "class BDD100KDataset(Dataset):\n",
    "    def __init__(self, images_dir, masks_dir, transform=None):\n",
    "        self.images_dir = images_dir\n",
    "        self.masks_dir = masks_dir\n",
    "        self.transform = transform\n",
    "        self.images = os.listdir(images_dir)\n",
    "\n",
    "    def __len__(self):\n",
    "        return len(self.images)\n",
    "\n",
    "    def __getitem__(self, idx):\n",
    "        img_name = self.images[idx]\n",
    "        img_path = os.path.join(self.images_dir, img_name)\n",
    "        mask_path = os.path.join(self.masks_dir, img_name.replace('.jpg', '.png'))\n",
    "\n",
    "        image = Image.open(img_path).convert(\"RGB\")\n",
    "        mask = Image.open(mask_path).convert(\"L\")\n",
    "\n",
    "        if self.transform:\n",
    "            image = self.transform(image)\n",
    "            mask = self.transform(mask)\n",
    "\n",
    "        return image, mask\n",
    "\n",
    "transform = transforms.Compose([\n",
    "    transforms.Resize((256, 256)),\n",
    "    transforms.ToTensor(),\n",
    "])\n",
    "\n",
    "\n",
    "train_dataset = BDD100KDataset(\n",
    "    images_dir='./Dataset/100k_images_train_small_data/bdd100k/images/100k/train',\n",
    "    masks_dir='./Dataset/bdd100k_lane_labels_trainval_small_data/bdd100k/labels/lane/masks/train',\n",
    "    transform=transform\n",
    ")\n",
    "\n",
    "val_dataset = BDD100KDataset(\n",
    "    images_dir='./Dataset/100k_images_val_small_data/bdd100k/images/100k/val',\n",
    "    masks_dir='./Dataset/bdd100k_lane_labels_trainval_small_data/bdd100k/labels/lane/masks/val',\n",
    "    transform=transform\n",
    ")\n",
    "\n",
    "\n",
    "train_loader = DataLoader(train_dataset, batch_size=16, shuffle=True)\n",
    "val_loader = DataLoader(val_dataset, batch_size=16, shuffle=False)\n",
    "\n",
    "\n",
    "class UNet(nn.Module):\n",
    "    def __init__(self, in_channels, out_channels):\n",
    "        super(UNet, self).__init__()\n",
    "\n",
    "        def CBR(in_channels, out_channels):\n",
    "            return nn.Sequential(\n",
    "                nn.Conv2d(in_channels, out_channels, kernel_size=3, padding=1),\n",
    "                nn.BatchNorm2d(out_channels),\n",
    "                nn.ReLU(inplace=True),\n",
    "                nn.Conv2d(out_channels, out_channels, kernel_size=3, padding=1),\n",
    "                nn.BatchNorm2d(out_channels),\n",
    "                nn.ReLU(inplace=True)\n",
    "            )\n",
    "\n",
    "        self.enc1 = CBR(in_channels, 64)\n",
    "        self.enc2 = CBR(64, 128)\n",
    "        self.enc3 = CBR(128, 256)\n",
    "        self.enc4 = CBR(256, 512)\n",
    "\n",
    "        self.pool = nn.MaxPool2d(2)\n",
    "\n",
    "        self.bottleneck = CBR(512, 1024)\n",
    "\n",
    "        self.upconv4 = nn.ConvTranspose2d(1024, 512, kernel_size=2, stride=2)\n",
    "        self.dec4 = CBR(1024, 512)\n",
    "        self.upconv3 = nn.ConvTranspose2d(512, 256, kernel_size=2, stride=2)\n",
    "        self.dec3 = CBR(512, 256)\n",
    "        self.upconv2 = nn.ConvTranspose2d(256, 128, kernel_size=2, stride=2)\n",
    "        self.dec2 = CBR(256, 128)\n",
    "        self.upconv1 = nn.ConvTranspose2d(128, 64, kernel_size=2, stride=2)\n",
    "        self.dec1 = CBR(128, 64)\n",
    "\n",
    "        self.conv = nn.Conv2d(64, out_channels, kernel_size=1)\n",
    "\n",
    "    def forward(self, x):\n",
    "        enc1 = self.enc1(x)\n",
    "        enc2 = self.enc2(self.pool(enc1))\n",
    "        enc3 = self.enc3(self.pool(enc2))\n",
    "        enc4 = self.enc4(self.pool(enc3))\n",
    "\n",
    "        bottleneck = self.bottleneck(self.pool(enc4))\n",
    "\n",
    "        dec4 = self.upconv4(bottleneck)\n",
    "        dec4 = torch.cat((dec4, enc4), dim=1)\n",
    "        dec4 = self.dec4(dec4)\n",
    "        dec3 = self.upconv3(dec4)\n",
    "        dec3 = torch.cat((dec3, enc3), dim=1)\n",
    "        dec3 = self.dec3(dec3)\n",
    "        dec2 = self.upconv2(dec3)\n",
    "        dec2 = torch.cat((dec2, enc2), dim=1)\n",
    "        dec2 = self.dec2(dec2)\n",
    "        dec1 = self.upconv1(dec2)\n",
    "        dec1 = torch.cat((dec1, enc1), dim=1)\n",
    "        dec1 = self.dec1(dec1)\n",
    "\n",
    "        return torch.sigmoid(self.conv(dec1))\n",
    "\n",
    "# Instantiate the model\n",
    "model = UNet(in_channels=3, out_channels=1).cuda()\n",
    "\n",
    "def train_model(model, train_loader, val_loader, criterion, optimizer, num_epochs=25, model_path='unet_lane_detection.pth', start_epoch=0):\n",
    "    best_val_loss = float('inf')\n",
    "\n",
    "    for epoch in range(start_epoch, num_epochs):\n",
    "        model.train()\n",
    "        train_loss = 0\n",
    "        train_loader_tqdm = tqdm(train_loader, desc=f'Epoch {epoch+1}/{num_epochs} - Training')\n",
    "        for images, masks in train_loader_tqdm:\n",
    "            images = images.cuda()\n",
    "            masks = masks.cuda()\n",
    "\n",
    "            optimizer.zero_grad()\n",
    "            outputs = model(images)\n",
    "            loss = criterion(outputs, masks)\n",
    "            loss.backward()\n",
    "            optimizer.step()\n",
    "\n",
    "            train_loss += loss.item() * images.size(0)\n",
    "            train_loader_tqdm.set_postfix({'Loss': train_loss / len(train_loader.dataset)})\n",
    "\n",
    "        train_loss = train_loss / len(train_loader.dataset)\n",
    "\n",
    "        model.eval()\n",
    "        val_loss = 0\n",
    "        val_loader_tqdm = tqdm(val_loader, desc=f'Epoch {epoch+1}/{num_epochs} - Validation')\n",
    "        with torch.no_grad():\n",
    "            for images, masks in val_loader_tqdm:\n",
    "                images = images.cuda()\n",
    "                masks = masks.cuda()\n",
    "\n",
    "                outputs = model(images)\n",
    "                loss = criterion(outputs, masks)\n",
    "\n",
    "                val_loss += loss.item() * images.size(0)\n",
    "                val_loader_tqdm.set_postfix({'Loss': val_loss / len(val_loader.dataset)})\n",
    "\n",
    "        val_loss = val_loss / len(val_loader.dataset)\n",
    "\n",
    "        print(f'Epoch {epoch+1}/{num_epochs}, '\n",
    "              f'Train Loss: {train_loss:.4f}, '\n",
    "              f'Val Loss: {val_loss:.4f}')\n",
    "\n",
    "        # Save the model after every 20 epoch\n",
    "        if(epoch+1) % 20 == 0:\n",
    "          torch.save({\n",
    "              'model_state_dict': model.state_dict(),\n",
    "              'optimizer_state_dict': optimizer.state_dict(),\n",
    "              'epoch': epoch\n",
    "          }, f'unet_lane_detection_epoch_{epoch+1}.pth')\n",
    "\n",
    "        # Additionally, save the best model\n",
    "        if val_loss < best_val_loss:\n",
    "            best_val_loss = val_loss\n",
    "            torch.save({\n",
    "                'model_state_dict': model.state_dict(),\n",
    "                'optimizer_state_dict': optimizer.state_dict(),\n",
    "                'epoch': epoch\n",
    "            }, 'best_unet_lane_detection.pth')\n",
    "\n",
    "\n",
    "# Criterion and optimizer setup\n",
    "criterion = nn.BCELoss()\n",
    "optimizer = optim.Adam(model.parameters(), lr=1e-3)\n",
    "\n",
    "# Start training\n",
    "train_model(model, train_loader, val_loader, criterion, optimizer, num_epochs=100, model_path='unet_lane_detection.pth')\n",
    "\n"
   ]
  },
  {
   "cell_type": "code",
   "source": [
    "!nvidia-smi"
   ],
   "metadata": {
    "colab": {
     "base_uri": "https://localhost:8080/"
    },
    "collapsed": true,
    "id": "FjxipjMdP8uz",
    "executionInfo": {
     "status": "ok",
     "timestamp": 1732235383592,
     "user_tz": -120,
     "elapsed": 553,
     "user": {
      "displayName": "Best User",
      "userId": "02999704111326163772"
     }
    },
    "outputId": "3074878a-e4cd-4a93-9c0f-e67044bcec74"
   },
   "execution_count": 3,
   "outputs": [
    {
     "output_type": "stream",
     "name": "stdout",
     "text": [
      "Fri Nov 22 00:29:42 2024       \n",
      "+---------------------------------------------------------------------------------------+\n",
      "| NVIDIA-SMI 535.104.05             Driver Version: 535.104.05   CUDA Version: 12.2     |\n",
      "|-----------------------------------------+----------------------+----------------------+\n",
      "| GPU  Name                 Persistence-M | Bus-Id        Disp.A | Volatile Uncorr. ECC |\n",
      "| Fan  Temp   Perf          Pwr:Usage/Cap |         Memory-Usage | GPU-Util  Compute M. |\n",
      "|                                         |                      |               MIG M. |\n",
      "|=========================================+======================+======================|\n",
      "|   0  Tesla T4                       Off | 00000000:00:04.0 Off |                    0 |\n",
      "| N/A   52C    P8              10W /  70W |      3MiB / 15360MiB |      0%      Default |\n",
      "|                                         |                      |                  N/A |\n",
      "+-----------------------------------------+----------------------+----------------------+\n",
      "                                                                                         \n",
      "+---------------------------------------------------------------------------------------+\n",
      "| Processes:                                                                            |\n",
      "|  GPU   GI   CI        PID   Type   Process name                            GPU Memory |\n",
      "|        ID   ID                                                             Usage      |\n",
      "|=======================================================================================|\n",
      "|  No running processes found                                                           |\n",
      "+---------------------------------------------------------------------------------------+\n"
     ]
    }
   ]
  },
  {
   "cell_type": "code",
   "source": [
    "import torch\n",
    "torch.cuda.is_available()"
   ],
   "metadata": {
    "colab": {
     "base_uri": "https://localhost:8080/"
    },
    "id": "PBZ12BzpQR7v",
    "executionInfo": {
     "status": "ok",
     "timestamp": 1732235373936,
     "user_tz": -120,
     "elapsed": 3170,
     "user": {
      "displayName": "Best User",
      "userId": "02999704111326163772"
     }
    },
    "outputId": "df4e49d2-6ef8-4b11-ae57-9e5e24b992e5"
   },
   "execution_count": 2,
   "outputs": [
    {
     "output_type": "execute_result",
     "data": {
      "text/plain": [
       "True"
      ]
     },
     "metadata": {},
     "execution_count": 2
    }
   ]
  },
  {
   "cell_type": "code",
   "source": [
    "import torch\n",
    "import torch.nn as nn\n",
    "import torch.optim as optim\n",
    "from torch.utils.data import DataLoader\n",
    "from torchvision import transforms\n",
    "from sklearn.metrics import accuracy_score, f1_score, jaccard_score\n",
    "from tqdm import tqdm\n",
    "import os\n",
    "from PIL import Image\n",
    "\n",
    "\n",
    "# Set the environment variable for CUDA\n",
    "os.environ[\"CUDA_VISIBLE_DEVICES\"] = \"0\"\n",
    "torch.cuda.empty_cache()\n",
    "os.environ['PYTORCH_CUDA_ALLOC_CONF'] = 'expandable_segments:True'\n",
    "\n",
    "class UNet(nn.Module):\n",
    "    def __init__(self, in_channels, out_channels):\n",
    "        super(UNet, self).__init__()\n",
    "\n",
    "        def CBR(in_channels, out_channels):\n",
    "            return nn.Sequential(\n",
    "                nn.Conv2d(in_channels, out_channels, kernel_size=3, padding=1),\n",
    "                nn.BatchNorm2d(out_channels),\n",
    "                nn.ReLU(inplace=True),\n",
    "                nn.Conv2d(out_channels, out_channels, kernel_size=3, padding=1),\n",
    "                nn.BatchNorm2d(out_channels),\n",
    "                nn.ReLU(inplace=True)\n",
    "            )\n",
    "\n",
    "        self.enc1 = CBR(in_channels, 64)\n",
    "        self.enc2 = CBR(64, 128)\n",
    "        self.enc3 = CBR(128, 256)\n",
    "        self.enc4 = CBR(256, 512)\n",
    "\n",
    "        self.pool = nn.MaxPool2d(2)\n",
    "\n",
    "        self.bottleneck = CBR(512, 1024)\n",
    "\n",
    "        self.upconv4 = nn.ConvTranspose2d(1024, 512, kernel_size=2, stride=2)\n",
    "        self.dec4 = CBR(1024, 512)\n",
    "        self.upconv3 = nn.ConvTranspose2d(512, 256, kernel_size=2, stride=2)\n",
    "        self.dec3 = CBR(512, 256)\n",
    "        self.upconv2 = nn.ConvTranspose2d(256, 128, kernel_size=2, stride=2)\n",
    "        self.dec2 = CBR(256, 128)\n",
    "        self.upconv1 = nn.ConvTranspose2d(128, 64, kernel_size=2, stride=2)\n",
    "        self.dec1 = CBR(128, 64)\n",
    "\n",
    "        self.conv = nn.Conv2d(64, out_channels, kernel_size=1)\n",
    "\n",
    "    def forward(self, x):\n",
    "        enc1 = self.enc1(x)\n",
    "        enc2 = self.enc2(self.pool(enc1))\n",
    "        enc3 = self.enc3(self.pool(enc2))\n",
    "        enc4 = self.enc4(self.pool(enc3))\n",
    "\n",
    "        bottleneck = self.bottleneck(self.pool(enc4))\n",
    "\n",
    "        dec4 = self.upconv4(bottleneck)\n",
    "        dec4 = torch.cat((dec4, enc4), dim=1)\n",
    "        dec4 = self.dec4(dec4)\n",
    "        dec3 = self.upconv3(dec4)\n",
    "        dec3 = torch.cat((dec3, enc3), dim=1)\n",
    "        dec3 = self.dec3(dec3)\n",
    "        dec2 = self.upconv2(dec3)\n",
    "        dec2 = torch.cat((dec2, enc2), dim=1)\n",
    "        dec2 = self.dec2(dec2)\n",
    "        dec1 = self.upconv1(dec2)\n",
    "        dec1 = torch.cat((dec1, enc1), dim=1)\n",
    "        dec1 = self.dec1(dec1)\n",
    "\n",
    "        return torch.sigmoid(self.conv(dec1))\n",
    "\n",
    "# Define transformations for the images\n",
    "transform = transforms.Compose([\n",
    "    transforms.ToTensor(),\n",
    "    transforms.Resize((256, 256))  # Resize to match the input size of the model\n",
    "])\n",
    "\n",
    "# Custom dataset class\n",
    "class BDD100KDataset(torch.utils.data.Dataset):\n",
    "    def __init__(self, image_dir, mask_dir, transform=None):\n",
    "        self.image_dir = image_dir\n",
    "        self.mask_dir = mask_dir\n",
    "        self.transform = transform\n",
    "        self.image_list = os.listdir(image_dir)\n",
    "\n",
    "    def __len__(self):\n",
    "        return len(self.image_list)\n",
    "\n",
    "    def __getitem__(self, idx):\n",
    "        image_path = os.path.join(self.image_dir, self.image_list[idx])\n",
    "        mask_path = os.path.join(self.mask_dir, self.image_list[idx].replace('.jpg', '.png'))\n",
    "\n",
    "        image = Image.open(image_path).convert(\"RGB\")\n",
    "        mask = Image.open(mask_path).convert('L')\n",
    "\n",
    "        if self.transform:\n",
    "            image = self.transform(image)\n",
    "            mask = self.transform(mask)\n",
    "\n",
    "        return image, mask\n",
    "\n",
    "# Load the trained model\n",
    "model = UNet(in_channels=3, out_channels=1).cuda()\n",
    "model.load_state_dict(torch.load('best_unet_lane_detection.pth')['model_state_dict'])\n",
    "model.eval()\n",
    "\n",
    "# Define loss function\n",
    "criterion = nn.BCEWithLogitsLoss()\n",
    "\n",
    "# Load validation data\n",
    "val_image_dir = './Dataset/100k_images_val_small_data/bdd100k/images/100k/val'\n",
    "val_mask_dir = './Dataset/bdd100k_lane_labels_trainval_small_data/bdd100k/labels/lane/masks/val'\n",
    "val_dataset = BDD100KDataset(val_image_dir, val_mask_dir, transform)\n",
    "val_loader = DataLoader(val_dataset, batch_size=16, shuffle=False)\n",
    "\n",
    "# Evaluation function\n",
    "def evaluate(model, val_loader, criterion):\n",
    "    model.eval()\n",
    "    val_loss = 0.0\n",
    "    val_accuracy = 0.0\n",
    "    val_f1 = 0.0\n",
    "    val_jaccard = 0.0\n",
    "    num_batches = len(val_loader)\n",
    "\n",
    "    with torch.no_grad():\n",
    "        for images, masks in tqdm(val_loader, desc='Evaluating'):\n",
    "            images = images.cuda()\n",
    "            masks = masks.cuda()\n",
    "\n",
    "            outputs = model(images)\n",
    "            loss = criterion(outputs, masks)\n",
    "            val_loss += loss.item()\n",
    "\n",
    "            preds = torch.sigmoid(outputs).cpu().numpy() > 0.5\n",
    "            true = masks.cpu().numpy() > 0.5\n",
    "\n",
    "            val_accuracy += accuracy_score(true.flatten(), preds.flatten())\n",
    "            val_f1 += f1_score(true.flatten(), preds.flatten())\n",
    "            val_jaccard += jaccard_score(true.flatten(), preds.flatten())\n",
    "\n",
    "    val_loss /= num_batches\n",
    "    val_accuracy /= num_batches\n",
    "    val_f1 /= num_batches\n",
    "    val_jaccard /= num_batches\n",
    "\n",
    "    print(f'Validation Loss: {val_loss:.4f}')\n",
    "    print(f'Validation Accuracy: {val_accuracy:.4f}')\n",
    "    print(f'Validation F1 Score: {val_f1:.4f}')\n",
    "    print(f'Validation Jaccard Score: {val_jaccard:.4f}')\n",
    "\n",
    "# Run evaluation\n",
    "evaluate(model, val_loader, criterion)\n"
   ],
   "metadata": {
    "colab": {
     "base_uri": "https://localhost:8080/"
    },
    "id": "5RRUJSaXW6-i",
    "executionInfo": {
     "status": "ok",
     "timestamp": 1732236892236,
     "user_tz": -120,
     "elapsed": 11006,
     "user": {
      "displayName": "Best User",
      "userId": "02999704111326163772"
     }
    },
    "outputId": "c88c1970-2f7e-45bd-f36b-75941d0d6041"
   },
   "execution_count": 10,
   "outputs": [
    {
     "output_type": "stream",
     "name": "stderr",
     "text": [
      "<ipython-input-10-53e217c0b3bb>:106: FutureWarning: You are using `torch.load` with `weights_only=False` (the current default value), which uses the default pickle module implicitly. It is possible to construct malicious pickle data which will execute arbitrary code during unpickling (See https://github.com/pytorch/pytorch/blob/main/SECURITY.md#untrusted-models for more details). In a future release, the default value for `weights_only` will be flipped to `True`. This limits the functions that could be executed during unpickling. Arbitrary objects will no longer be allowed to be loaded via this mode unless they are explicitly allowlisted by the user via `torch.serialization.add_safe_globals`. We recommend you start setting `weights_only=True` for any use case where you don't have full control of the loaded file. Please open an issue on GitHub for any issues related to this experimental feature.\n",
      "  model.load_state_dict(torch.load('best_unet_lane_detection.pth')['model_state_dict'])\n",
      "Evaluating: 100%|██████████| 7/7 [00:09<00:00,  1.34s/it]"
     ]
    },
    {
     "output_type": "stream",
     "name": "stdout",
     "text": [
      "Validation Loss: 0.3216\n",
      "Validation Accuracy: 0.9945\n",
      "Validation F1 Score: 0.9972\n",
      "Validation Jaccard Score: 0.9945\n"
     ]
    },
    {
     "output_type": "stream",
     "name": "stderr",
     "text": [
      "\n"
     ]
    }
   ]
  },
  {
   "cell_type": "code",
   "source": [
    "\n",
    "from PIL import Image\n",
    "import torch\n",
    "import torchvision.transforms as transforms\n",
    "import torch.nn as nn\n",
    "import matplotlib.pyplot as plt\n",
    "import numpy as np\n",
    "from PIL import Image\n",
    "import os\n",
    "\n",
    "plt.style.use('dark_background')\n",
    "\n",
    "class UNet(nn.Module):\n",
    "    def __init__(self, in_channels, out_channels):\n",
    "        super(UNet, self).__init__()\n",
    "\n",
    "        def CBR(in_channels, out_channels):\n",
    "            return nn.Sequential(\n",
    "                nn.Conv2d(in_channels, out_channels, kernel_size=3, padding=1),\n",
    "                nn.BatchNorm2d(out_channels),\n",
    "                nn.ReLU(inplace=True),\n",
    "                nn.Conv2d(out_channels, out_channels, kernel_size=3, padding=1),\n",
    "                nn.BatchNorm2d(out_channels),\n",
    "                nn.ReLU(inplace=True)\n",
    "            )\n",
    "\n",
    "        self.enc1 = CBR(in_channels, 64)\n",
    "        self.enc2 = CBR(64, 128)\n",
    "        self.enc3 = CBR(128, 256)\n",
    "        self.enc4 = CBR(256, 512)\n",
    "\n",
    "        self.pool = nn.MaxPool2d(2)\n",
    "\n",
    "        self.bottleneck = CBR(512, 1024)\n",
    "\n",
    "        self.upconv4 = nn.ConvTranspose2d(1024, 512, kernel_size=2, stride=2)\n",
    "        self.dec4 = CBR(1024, 512)\n",
    "        self.upconv3 = nn.ConvTranspose2d(512, 256, kernel_size=2, stride=2)\n",
    "        self.dec3 = CBR(512, 256)\n",
    "        self.upconv2 = nn.ConvTranspose2d(256, 128, kernel_size=2, stride=2)\n",
    "        self.dec2 = CBR(256, 128)\n",
    "        self.upconv1 = nn.ConvTranspose2d(128, 64, kernel_size=2, stride=2)\n",
    "        self.dec1 = CBR(128, 64)\n",
    "\n",
    "        self.conv = nn.Conv2d(64, out_channels, kernel_size=1)\n",
    "\n",
    "    def forward(self, x):\n",
    "        enc1 = self.enc1(x)\n",
    "        enc2 = self.enc2(self.pool(enc1))\n",
    "        enc3 = self.enc3(self.pool(enc2))\n",
    "        enc4 = self.enc4(self.pool(enc3))\n",
    "\n",
    "        bottleneck = self.bottleneck(self.pool(enc4))\n",
    "\n",
    "        dec4 = self.upconv4(bottleneck)\n",
    "        dec4 = torch.cat((dec4, enc4), dim=1)\n",
    "        dec4 = self.dec4(dec4)\n",
    "        dec3 = self.upconv3(dec4)\n",
    "        dec3 = torch.cat((dec3, enc3), dim=1)\n",
    "        dec3 = self.dec3(dec3)\n",
    "        dec2 = self.upconv2(dec3)\n",
    "        dec2 = torch.cat((dec2, enc2), dim=1)\n",
    "        dec2 = self.dec2(dec2)\n",
    "        dec1 = self.upconv1(dec2)\n",
    "        dec1 = torch.cat((dec1, enc1), dim=1)\n",
    "        dec1 = self.dec1(dec1)\n",
    "\n",
    "        return torch.sigmoid(self.conv(dec1))\n",
    "\n",
    "# Load the trained model\n",
    "model = UNet(in_channels=3, out_channels=1)\n",
    "model.load_state_dict(torch.load('best_unet_lane_detection.pth', map_location=torch.device('cpu'))['model_state_dict'])\n",
    "model.eval()\n",
    "\n",
    "# Transformations\n",
    "transform = transforms.Compose([\n",
    "    transforms.Resize((128, 128)),  # Resize to match the input size used during training\n",
    "    transforms.ToTensor()\n",
    "])\n",
    "\n",
    "# Function to preprocess the image and mask\n",
    "def preprocess(image_path, mask_path):\n",
    "    image = Image.open(image_path).convert('RGB')\n",
    "    mask = Image.open(mask_path).convert('L')  # Grayscale for mask\n",
    "    original_size = image.size  # Keep original size\n",
    "    image = transform(image)\n",
    "    mask = transform(mask)\n",
    "    return image, mask, original_size\n",
    "\n",
    "# Function to post-process the output\n",
    "def postprocess(output, original_size):\n",
    "    output = output.squeeze().cpu().numpy()\n",
    "    output = np.uint8(output * 255)  # Scale to 0-255\n",
    "    output = Image.fromarray(output).resize(original_size, Image.BILINEAR)\n",
    "    output = np.array(output)\n",
    "    return output\n",
    "\n",
    "# Function to display the results\n",
    "def display_results(image_path, mask_path, predicted_mask):\n",
    "    original_image = Image.open(image_path).convert('RGB')\n",
    "    ground_truth_mask = Image.open(mask_path).convert('L')\n",
    "\n",
    "    plt.figure(figsize=(15, 5))\n",
    "\n",
    "    plt.subplot(1, 3, 1)\n",
    "    plt.title(\"Original Image\")\n",
    "    plt.imshow(original_image)\n",
    "    plt.axis('off')\n",
    "\n",
    "    plt.subplot(1, 3, 2)\n",
    "    plt.title(\"Ground Truth Mask\")\n",
    "    plt.imshow(ground_truth_mask,cmap=\"gray\")\n",
    "    plt.axis('off')\n",
    "\n",
    "    plt.subplot(1, 3, 3)\n",
    "    plt.title(\"Predicted Mask\")\n",
    "    plt.imshow(predicted_mask, cmap=\"gray\")\n",
    "    plt.axis('off')\n",
    "\n",
    "    plt.show()\n",
    "\n",
    "def run_inference(image_path, mask_path):\n",
    "    image, mask, original_size = preprocess(image_path, mask_path)\n",
    "    image = image.unsqueeze(0)  # Add batch dimension, no need to move to GPU\n",
    "\n",
    "    with torch.no_grad():\n",
    "        output = model(image)\n",
    "        output = torch.sigmoid(output)  # Apply sigmoid to get probabilities\n",
    "\n",
    "    predicted_mask = postprocess(output, original_size)\n",
    "\n",
    "    # Save predicted mask\n",
    "    save_folder = './Dataset/Predicted'\n",
    "    os.makedirs(save_folder, exist_ok=True)\n",
    "    predicted_mask_image = Image.fromarray(predicted_mask)\n",
    "    predicted_mask_image.save(os.path.join(save_folder, os.path.basename(mask_path)))\n",
    "\n",
    "    display_results(image_path, mask_path, predicted_mask)\n",
    "\n",
    "# Example usage\n",
    "image_path = './Dataset/100k_images_val_small_data/bdd100k/images/100k/val/b1e0c01d-dd9e6e2f.jpg'\n",
    "mask_path = './Dataset/bdd100k_lane_labels_trainval_small_data/bdd100k/labels/lane/masks/val/b1e0c01d-dd9e6e2f.png'\n",
    "run_inference(image_path, mask_path)"
   ],
   "metadata": {
    "colab": {
     "base_uri": "https://localhost:8080/",
     "height": 257
    },
    "id": "SHdrli5GWWwF",
    "executionInfo": {
     "status": "ok",
     "timestamp": 1732236656967,
     "user_tz": -120,
     "elapsed": 3479,
     "user": {
      "displayName": "Best User",
      "userId": "02999704111326163772"
     }
    },
    "outputId": "8174617e-a6d0-4ee8-ad8f-99e5bbcde0ff"
   },
   "execution_count": 7,
   "outputs": [
    {
     "output_type": "stream",
     "name": "stderr",
     "text": [
      "<ipython-input-7-d0fb5f56f2c5>:71: FutureWarning: You are using `torch.load` with `weights_only=False` (the current default value), which uses the default pickle module implicitly. It is possible to construct malicious pickle data which will execute arbitrary code during unpickling (See https://github.com/pytorch/pytorch/blob/main/SECURITY.md#untrusted-models for more details). In a future release, the default value for `weights_only` will be flipped to `True`. This limits the functions that could be executed during unpickling. Arbitrary objects will no longer be allowed to be loaded via this mode unless they are explicitly allowlisted by the user via `torch.serialization.add_safe_globals`. We recommend you start setting `weights_only=True` for any use case where you don't have full control of the loaded file. Please open an issue on GitHub for any issues related to this experimental feature.\n",
      "  model.load_state_dict(torch.load('best_unet_lane_detection.pth', map_location=torch.device('cpu'))['model_state_dict'])\n"
     ]
    },
    {
     "output_type": "display_data",
     "data": {
      "text/plain": [
       "<Figure size 1500x500 with 3 Axes>"
      ],
      "image/png": "[encoded data removed]"
     },
     "metadata": {}
    }
   ]
  },
  {
   "cell_type": "code",
   "source": [],
   "metadata": {
    "id": "c0M0yRYdWbGU"
   },
   "execution_count": null,
   "outputs": []
  },
  {
   "cell_type": "code",
   "source": [],
   "metadata": {
    "id": "RSc47eiHWtYH"
   },
   "execution_count": null,
   "outputs": []
  },
  {
   "cell_type": "code",
   "source": [
    "import os\n",
    "from PIL import Image\n",
    "import torch\n",
    "from torch.utils.data import Dataset, DataLoader\n",
    "import torchvision.transforms as transforms\n",
    "import torch.nn as nn\n",
    "import torch.nn.functional as F\n",
    "import torch.optim as optim\n",
    "from sklearn.metrics import jaccard_score\n",
    "from tqdm import tqdm\n",
    "\n",
    "os.environ[\"CUDA_DEVICE_ORDER\"] = \"PCI_BUS_ID\"\n",
    "os.environ[\"CUDA_VISIBLE_DEVICES\"] = \"0\"\n",
    "\n",
    "\n",
    "class BDD100KDataset(Dataset):\n",
    "    def __init__(self, images_dir, masks_dir, transform=None):\n",
    "        self.images_dir = images_dir\n",
    "        self.masks_dir = masks_dir\n",
    "        self.transform = transform\n",
    "        self.images = os.listdir(images_dir)\n",
    "\n",
    "    def __len__(self):\n",
    "        return len(self.images)\n",
    "\n",
    "    def __getitem__(self, idx):\n",
    "        img_name = self.images[idx]\n",
    "        img_path = os.path.join(self.images_dir, img_name)\n",
    "        mask_path = os.path.join(self.masks_dir, img_name.replace('.jpg', '.png'))\n",
    "\n",
    "        image = Image.open(img_path).convert(\"RGB\")\n",
    "        mask = Image.open(mask_path).convert(\"L\")\n",
    "\n",
    "        if self.transform:\n",
    "            image = self.transform(image)\n",
    "            mask = self.transform(mask)\n",
    "\n",
    "        return image, mask\n",
    "\n",
    "transform = transforms.Compose([\n",
    "    transforms.Resize((256, 256)),\n",
    "    transforms.ToTensor(),\n",
    "])\n",
    "\n",
    "\n",
    "train_dataset = BDD100KDataset(\n",
    "    images_dir='./Dataset/100k_images_train_small_data/bdd100k/images/100k/train',\n",
    "    masks_dir='./Dataset/bdd100k_lane_labels_trainval_small_data/bdd100k/labels/lane/masks/train',\n",
    "    transform=transform\n",
    ")\n",
    "\n",
    "val_dataset = BDD100KDataset(\n",
    "    images_dir='./Dataset/100k_images_val_small_data/bdd100k/images/100k/val',\n",
    "    masks_dir='./Dataset/bdd100k_lane_labels_trainval_small_data/bdd100k/labels/lane/masks/val',\n",
    "    transform=transform\n",
    ")\n",
    "\n",
    "\n",
    "train_loader = DataLoader(train_dataset, batch_size=8, shuffle=True)\n",
    "val_loader = DataLoader(val_dataset, batch_size=8, shuffle=False)\n",
    "\n",
    "\n",
    "\n",
    "class AttentionGate(nn.Module):\n",
    "    def __init__(self, in_channels, gating_channels, inter_channels):\n",
    "        super(AttentionGate, self).__init__()\n",
    "\n",
    "        self.W_g = nn.Conv2d(gating_channels, inter_channels, kernel_size=1, stride=1, padding=0)\n",
    "        self.W_x = nn.Conv2d(in_channels, inter_channels, kernel_size=1, stride=1, padding=0)\n",
    "        self.psi = nn.Conv2d(inter_channels, 1, kernel_size=1, stride=1, padding=0)\n",
    "        self.relu = nn.ReLU(inplace=True)\n",
    "        self.sigmoid = nn.Sigmoid()\n",
    "\n",
    "    def forward(self, x, g):\n",
    "        # g: gating signal from the decoder\n",
    "        # x: feature map from the encoder\n",
    "        g = self.W_g(g)\n",
    "        x = self.W_x(x)\n",
    "\n",
    "        # Combine the two signals\n",
    "        attn = self.relu(g + x)\n",
    "        attn = self.psi(attn)\n",
    "        attn = self.sigmoid(attn)\n",
    "\n",
    "        # Apply the attention map to the feature map x\n",
    "        return x * attn\n",
    "\n",
    "\n",
    "class UNetWithAttention(nn.Module):\n",
    "    def __init__(self, in_channels, out_channels):\n",
    "        super(UNetWithAttention, self).__init__()\n",
    "\n",
    "        def CBR(in_channels, out_channels):\n",
    "            return nn.Sequential(\n",
    "                nn.Conv2d(in_channels, out_channels, kernel_size=3, padding=1),\n",
    "                nn.BatchNorm2d(out_channels),\n",
    "                nn.ReLU(inplace=True),\n",
    "                nn.Conv2d(out_channels, out_channels, kernel_size=3, padding=1),\n",
    "                nn.BatchNorm2d(out_channels),\n",
    "                nn.ReLU(inplace=True)\n",
    "            )\n",
    "\n",
    "        self.enc1 = CBR(in_channels, 64)\n",
    "        self.enc2 = CBR(64, 128)\n",
    "        self.enc3 = CBR(128, 256)\n",
    "        self.enc4 = CBR(256, 512)\n",
    "\n",
    "        self.pool = nn.MaxPool2d(2)\n",
    "\n",
    "        self.bottleneck = CBR(512, 1024)\n",
    "\n",
    "        self.upconv4 = nn.ConvTranspose2d(1024, 512, kernel_size=2, stride=2)\n",
    "        self.attn4 = AttentionGate(512, 512, 256)  # Attention Gate for the skip connection\n",
    "        self.dec4 = CBR(768, 512)\n",
    "\n",
    "        self.upconv3 = nn.ConvTranspose2d(512, 256, kernel_size=2, stride=2)\n",
    "        self.attn3 = AttentionGate(256, 256, 128)  # Attention Gate for the skip connection\n",
    "        self.dec3 = CBR(384, 256)\n",
    "\n",
    "        self.upconv2 = nn.ConvTranspose2d(256, 128, kernel_size=2, stride=2)\n",
    "        self.attn2 = AttentionGate(128, 128, 64)  # Attention Gate for the skip connection\n",
    "        self.dec2 = CBR(192, 128)\n",
    "\n",
    "        self.upconv1 = nn.ConvTranspose2d(128, 64, kernel_size=2, stride=2)\n",
    "        self.attn1 = AttentionGate(64, 64, 32)  # Attention Gate for the skip connection\n",
    "        self.dec1 = CBR(96, 64)\n",
    "\n",
    "        self.conv = nn.Conv2d(64, out_channels, kernel_size=1)\n",
    "\n",
    "    def forward(self, x):\n",
    "        # Encoding path\n",
    "        enc1 = self.enc1(x)\n",
    "        enc2 = self.enc2(self.pool(enc1))\n",
    "        enc3 = self.enc3(self.pool(enc2))\n",
    "        enc4 = self.enc4(self.pool(enc3))\n",
    "\n",
    "        # Bottleneck\n",
    "        bottleneck = self.bottleneck(self.pool(enc4))\n",
    "\n",
    "        # Decoding path\n",
    "        # dec4\n",
    "        dec4 = self.upconv4(bottleneck)\n",
    "        attn4 = self.attn4.forward(enc4, dec4)  # Apply attention gate\n",
    "        dec4 = torch.cat((attn4, dec4), dim=1)  # Concatenate attention output and upsampled feature map\n",
    "        dec4 = self.dec4(dec4)  # Adjust the number of input channels expected here\n",
    "\n",
    "        # dec3\n",
    "        dec3 = self.upconv3(dec4)\n",
    "        attn3 = self.attn3.forward(enc3, dec3)  # Apply attention gate\n",
    "        dec3 = torch.cat((attn3, dec3), dim=1)\n",
    "        dec3 = self.dec3(dec3)\n",
    "\n",
    "        # dec2\n",
    "        dec2 = self.upconv2(dec3)\n",
    "        attn2 = self.attn2.forward(enc2, dec2)  # Apply attention gate\n",
    "        dec2 = torch.cat((attn2, dec2), dim=1)\n",
    "        dec2 = self.dec2(dec2)\n",
    "\n",
    "        # dec1\n",
    "        dec1 = self.upconv1(dec2)\n",
    "        attn1 = self.attn1.forward(enc1, dec1)  # Apply attention gate\n",
    "        dec1 = torch.cat((attn1, dec1), dim=1)\n",
    "        dec1 = self.dec1(dec1)\n",
    "\n",
    "        return torch.sigmoid(self.conv(dec1))\n",
    "\n",
    "\n",
    "# Instantiate the model with attention\n",
    "model_with_attention = UNetWithAttention(in_channels=3, out_channels=1).cuda()\n",
    "\n",
    "def train_model(model, train_loader, val_loader, criterion, optimizer, num_epochs=25, model_path='unet_lane_detection.pth', start_epoch=0):\n",
    "    best_val_loss = float('inf')\n",
    "\n",
    "    for epoch in range(start_epoch, num_epochs):\n",
    "        model.train()\n",
    "        train_loss = 0\n",
    "        train_loader_tqdm = tqdm(train_loader, desc=f'Epoch {epoch+1}/{num_epochs} - Training')\n",
    "        for images, masks in train_loader_tqdm:\n",
    "            images = images.cuda()\n",
    "            masks = masks.cuda()\n",
    "\n",
    "            optimizer.zero_grad()\n",
    "            outputs = model(images)\n",
    "            loss = criterion(outputs, masks)\n",
    "            loss.backward()\n",
    "            optimizer.step()\n",
    "\n",
    "            train_loss += loss.item() * images.size(0)\n",
    "            train_loader_tqdm.set_postfix({'Loss': train_loss / len(train_loader.dataset)})\n",
    "\n",
    "        train_loss = train_loss / len(train_loader.dataset)\n",
    "\n",
    "        model.eval()\n",
    "        val_loss = 0\n",
    "        val_loader_tqdm = tqdm(val_loader, desc=f'Epoch {epoch+1}/{num_epochs} - Validation')\n",
    "        with torch.no_grad():\n",
    "            for images, masks in val_loader_tqdm:\n",
    "                images = images.cuda()\n",
    "                masks = masks.cuda()\n",
    "\n",
    "                outputs = model(images)\n",
    "                loss = criterion(outputs, masks)\n",
    "\n",
    "                val_loss += loss.item() * images.size(0)\n",
    "                val_loader_tqdm.set_postfix({'Loss': val_loss / len(val_loader.dataset)})\n",
    "\n",
    "        val_loss = val_loss / len(val_loader.dataset)\n",
    "\n",
    "        print(f'Epoch {epoch+1}/{num_epochs}, '\n",
    "              f'Train Loss: {train_loss:.4f}, '\n",
    "              f'Val Loss: {val_loss:.4f}')\n",
    "\n",
    "        # Save the model after every 20 epoch\n",
    "        if(epoch+1) % 20 == 0:\n",
    "            torch.save({\n",
    "                'model_state_dict': model.state_dict(),\n",
    "                'optimizer_state_dict': optimizer.state_dict(),\n",
    "                'epoch': epoch\n",
    "            }, f'./attention/unet_lane_detection_epoch_{epoch+1}.pth')\n",
    "\n",
    "        # Additionally, save the best model\n",
    "        if val_loss < best_val_loss:\n",
    "            best_val_loss = val_loss\n",
    "            torch.save({\n",
    "                'model_state_dict': model.state_dict(),\n",
    "                'optimizer_state_dict': optimizer.state_dict(),\n",
    "                'epoch': epoch\n",
    "            }, './attention/best_unet_lane_detection.pth')\n",
    "\n",
    "# Criterion and optimizer setup\n",
    "criterion = nn.BCELoss()\n",
    "optimizer = optim.Adam(model_with_attention.parameters(), lr=1e-3)\n",
    "\n",
    "# Start training\n",
    "train_model(model_with_attention, train_loader, val_loader, criterion, optimizer, num_epochs=100, model_path='unet_lane_detection.pth')\n"
   ],
   "metadata": {
    "colab": {
     "base_uri": "https://localhost:8080/"
    },
    "collapsed": true,
    "id": "vVb1NQEZWtzd",
    "executionInfo": {
     "status": "ok",
     "timestamp": 1732238826035,
     "user_tz": -120,
     "elapsed": 1191729,
     "user": {
      "displayName": "Best User",
      "userId": "02999704111326163772"
     }
    },
    "outputId": "8d59ead0-b704-4012-b5a1-d2ce74ab1e18"
   },
   "execution_count": 18,
   "outputs": [
    {
     "output_type": "stream",
     "name": "stderr",
     "text": [
      "Epoch 1/100 - Training: 100%|██████████| 13/13 [00:08<00:00,  1.53it/s, Loss=0.418]\n",
      "Epoch 1/100 - Validation: 100%|██████████| 13/13 [00:03<00:00,  3.71it/s, Loss=0.57]\n"
     ]
    },
    {
     "output_type": "stream",
     "name": "stdout",
     "text": [
      "Epoch 1/100, Train Loss: 0.4176, Val Loss: 0.5703\n"
     ]
    },
    {
     "output_type": "stream",
     "name": "stderr",
     "text": [
      "Epoch 2/100 - Training: 100%|██████████| 13/13 [00:08<00:00,  1.62it/s, Loss=0.239]\n",
      "Epoch 2/100 - Validation: 100%|██████████| 13/13 [00:03<00:00,  3.71it/s, Loss=0.249]\n"
     ]
    },
    {
     "output_type": "stream",
     "name": "stdout",
     "text": [
      "Epoch 2/100, Train Loss: 0.2386, Val Loss: 0.2485\n"
     ]
    },
    {
     "output_type": "stream",
     "name": "stderr",
     "text": [
      "Epoch 3/100 - Training: 100%|██████████| 13/13 [00:07<00:00,  1.68it/s, Loss=0.187]\n",
      "Epoch 3/100 - Validation: 100%|██████████| 13/13 [00:03<00:00,  3.59it/s, Loss=0.16]\n"
     ]
    },
    {
     "output_type": "stream",
     "name": "stdout",
     "text": [
      "Epoch 3/100, Train Loss: 0.1868, Val Loss: 0.1602\n"
     ]
    },
    {
     "output_type": "stream",
     "name": "stderr",
     "text": [
      "Epoch 4/100 - Training: 100%|██████████| 13/13 [00:07<00:00,  1.74it/s, Loss=0.149]\n",
      "Epoch 4/100 - Validation: 100%|██████████| 13/13 [00:03<00:00,  3.32it/s, Loss=0.132]\n"
     ]
    },
    {
     "output_type": "stream",
     "name": "stdout",
     "text": [
      "Epoch 4/100, Train Loss: 0.1495, Val Loss: 0.1321\n"
     ]
    },
    {
     "output_type": "stream",
     "name": "stderr",
     "text": [
      "Epoch 5/100 - Training: 100%|██████████| 13/13 [00:07<00:00,  1.78it/s, Loss=0.124]\n",
      "Epoch 5/100 - Validation: 100%|██████████| 13/13 [00:04<00:00,  3.14it/s, Loss=0.122]\n"
     ]
    },
    {
     "output_type": "stream",
     "name": "stdout",
     "text": [
      "Epoch 5/100, Train Loss: 0.1245, Val Loss: 0.1225\n"
     ]
    },
    {
     "output_type": "stream",
     "name": "stderr",
     "text": [
      "Epoch 6/100 - Training: 100%|██████████| 13/13 [00:07<00:00,  1.77it/s, Loss=0.105]\n",
      "Epoch 6/100 - Validation: 100%|██████████| 13/13 [00:03<00:00,  3.29it/s, Loss=0.103]\n"
     ]
    },
    {
     "output_type": "stream",
     "name": "stdout",
     "text": [
      "Epoch 6/100, Train Loss: 0.1047, Val Loss: 0.1026\n"
     ]
    },
    {
     "output_type": "stream",
     "name": "stderr",
     "text": [
      "Epoch 7/100 - Training: 100%|██████████| 13/13 [00:07<00:00,  1.65it/s, Loss=0.0896]\n",
      "Epoch 7/100 - Validation: 100%|██████████| 13/13 [00:03<00:00,  3.45it/s, Loss=0.086]\n"
     ]
    },
    {
     "output_type": "stream",
     "name": "stdout",
     "text": [
      "Epoch 7/100, Train Loss: 0.0896, Val Loss: 0.0860\n"
     ]
    },
    {
     "output_type": "stream",
     "name": "stderr",
     "text": [
      "Epoch 8/100 - Training: 100%|██████████| 13/13 [00:07<00:00,  1.70it/s, Loss=0.0795]\n",
      "Epoch 8/100 - Validation: 100%|██████████| 13/13 [00:03<00:00,  3.71it/s, Loss=0.077]\n"
     ]
    },
    {
     "output_type": "stream",
     "name": "stdout",
     "text": [
      "Epoch 8/100, Train Loss: 0.0795, Val Loss: 0.0770\n"
     ]
    },
    {
     "output_type": "stream",
     "name": "stderr",
     "text": [
      "Epoch 9/100 - Training: 100%|██████████| 13/13 [00:08<00:00,  1.62it/s, Loss=0.0706]\n",
      "Epoch 9/100 - Validation: 100%|██████████| 13/13 [00:03<00:00,  3.67it/s, Loss=0.071]\n"
     ]
    },
    {
     "output_type": "stream",
     "name": "stdout",
     "text": [
      "Epoch 9/100, Train Loss: 0.0706, Val Loss: 0.0710\n"
     ]
    },
    {
     "output_type": "stream",
     "name": "stderr",
     "text": [
      "Epoch 10/100 - Training: 100%|██████████| 13/13 [00:08<00:00,  1.59it/s, Loss=0.0639]\n",
      "Epoch 10/100 - Validation: 100%|██████████| 13/13 [00:03<00:00,  3.69it/s, Loss=0.0656]\n"
     ]
    },
    {
     "output_type": "stream",
     "name": "stdout",
     "text": [
      "Epoch 10/100, Train Loss: 0.0639, Val Loss: 0.0656\n"
     ]
    },
    {
     "output_type": "stream",
     "name": "stderr",
     "text": [
      "Epoch 11/100 - Training: 100%|██████████| 13/13 [00:07<00:00,  1.68it/s, Loss=0.0588]\n",
      "Epoch 11/100 - Validation: 100%|██████████| 13/13 [00:03<00:00,  3.79it/s, Loss=0.0593]\n"
     ]
    },
    {
     "output_type": "stream",
     "name": "stdout",
     "text": [
      "Epoch 11/100, Train Loss: 0.0588, Val Loss: 0.0593\n"
     ]
    },
    {
     "output_type": "stream",
     "name": "stderr",
     "text": [
      "Epoch 12/100 - Training: 100%|██████████| 13/13 [00:07<00:00,  1.71it/s, Loss=0.0547]\n",
      "Epoch 12/100 - Validation: 100%|██████████| 13/13 [00:03<00:00,  3.47it/s, Loss=0.0562]\n"
     ]
    },
    {
     "output_type": "stream",
     "name": "stdout",
     "text": [
      "Epoch 12/100, Train Loss: 0.0547, Val Loss: 0.0562\n"
     ]
    },
    {
     "output_type": "stream",
     "name": "stderr",
     "text": [
      "Epoch 13/100 - Training: 100%|██████████| 13/13 [00:07<00:00,  1.74it/s, Loss=0.0515]\n",
      "Epoch 13/100 - Validation: 100%|██████████| 13/13 [00:04<00:00,  3.17it/s, Loss=0.0548]\n"
     ]
    },
    {
     "output_type": "stream",
     "name": "stdout",
     "text": [
      "Epoch 13/100, Train Loss: 0.0515, Val Loss: 0.0548\n"
     ]
    },
    {
     "output_type": "stream",
     "name": "stderr",
     "text": [
      "Epoch 14/100 - Training: 100%|██████████| 13/13 [00:07<00:00,  1.67it/s, Loss=0.0488]\n",
      "Epoch 14/100 - Validation: 100%|██████████| 13/13 [00:04<00:00,  3.11it/s, Loss=0.0502]\n"
     ]
    },
    {
     "output_type": "stream",
     "name": "stdout",
     "text": [
      "Epoch 14/100, Train Loss: 0.0488, Val Loss: 0.0502\n"
     ]
    },
    {
     "output_type": "stream",
     "name": "stderr",
     "text": [
      "Epoch 15/100 - Training: 100%|██████████| 13/13 [00:07<00:00,  1.76it/s, Loss=0.0467]\n",
      "Epoch 15/100 - Validation: 100%|██████████| 13/13 [00:03<00:00,  3.35it/s, Loss=0.048]\n"
     ]
    },
    {
     "output_type": "stream",
     "name": "stdout",
     "text": [
      "Epoch 15/100, Train Loss: 0.0467, Val Loss: 0.0480\n"
     ]
    },
    {
     "output_type": "stream",
     "name": "stderr",
     "text": [
      "Epoch 16/100 - Training: 100%|██████████| 13/13 [00:07<00:00,  1.74it/s, Loss=0.0448]\n",
      "Epoch 16/100 - Validation: 100%|██████████| 13/13 [00:03<00:00,  3.69it/s, Loss=0.0473]\n"
     ]
    },
    {
     "output_type": "stream",
     "name": "stdout",
     "text": [
      "Epoch 16/100, Train Loss: 0.0448, Val Loss: 0.0473\n"
     ]
    },
    {
     "output_type": "stream",
     "name": "stderr",
     "text": [
      "Epoch 17/100 - Training: 100%|██████████| 13/13 [00:07<00:00,  1.71it/s, Loss=0.0433]\n",
      "Epoch 17/100 - Validation: 100%|██████████| 13/13 [00:03<00:00,  3.68it/s, Loss=0.0453]\n"
     ]
    },
    {
     "output_type": "stream",
     "name": "stdout",
     "text": [
      "Epoch 17/100, Train Loss: 0.0433, Val Loss: 0.0453\n"
     ]
    },
    {
     "output_type": "stream",
     "name": "stderr",
     "text": [
      "Epoch 18/100 - Training: 100%|██████████| 13/13 [00:07<00:00,  1.67it/s, Loss=0.0419]\n",
      "Epoch 18/100 - Validation: 100%|██████████| 13/13 [00:03<00:00,  3.76it/s, Loss=0.0441]\n"
     ]
    },
    {
     "output_type": "stream",
     "name": "stdout",
     "text": [
      "Epoch 18/100, Train Loss: 0.0419, Val Loss: 0.0441\n"
     ]
    },
    {
     "output_type": "stream",
     "name": "stderr",
     "text": [
      "Epoch 19/100 - Training: 100%|██████████| 13/13 [00:07<00:00,  1.64it/s, Loss=0.0408]\n",
      "Epoch 19/100 - Validation: 100%|██████████| 13/13 [00:03<00:00,  3.75it/s, Loss=0.0427]\n"
     ]
    },
    {
     "output_type": "stream",
     "name": "stdout",
     "text": [
      "Epoch 19/100, Train Loss: 0.0408, Val Loss: 0.0427\n"
     ]
    },
    {
     "output_type": "stream",
     "name": "stderr",
     "text": [
      "Epoch 20/100 - Training: 100%|██████████| 13/13 [00:07<00:00,  1.68it/s, Loss=0.0398]\n",
      "Epoch 20/100 - Validation: 100%|██████████| 13/13 [00:03<00:00,  3.74it/s, Loss=0.0418]\n"
     ]
    },
    {
     "output_type": "stream",
     "name": "stdout",
     "text": [
      "Epoch 20/100, Train Loss: 0.0398, Val Loss: 0.0418\n"
     ]
    },
    {
     "output_type": "stream",
     "name": "stderr",
     "text": [
      "Epoch 21/100 - Training: 100%|██████████| 13/13 [00:07<00:00,  1.66it/s, Loss=0.039]\n",
      "Epoch 21/100 - Validation: 100%|██████████| 13/13 [00:03<00:00,  3.74it/s, Loss=0.042]\n"
     ]
    },
    {
     "output_type": "stream",
     "name": "stdout",
     "text": [
      "Epoch 21/100, Train Loss: 0.0390, Val Loss: 0.0420\n"
     ]
    },
    {
     "output_type": "stream",
     "name": "stderr",
     "text": [
      "Epoch 22/100 - Training: 100%|██████████| 13/13 [00:07<00:00,  1.72it/s, Loss=0.0384]\n",
      "Epoch 22/100 - Validation: 100%|██████████| 13/13 [00:03<00:00,  3.38it/s, Loss=0.0403]\n"
     ]
    },
    {
     "output_type": "stream",
     "name": "stdout",
     "text": [
      "Epoch 22/100, Train Loss: 0.0384, Val Loss: 0.0403\n"
     ]
    },
    {
     "output_type": "stream",
     "name": "stderr",
     "text": [
      "Epoch 23/100 - Training: 100%|██████████| 13/13 [00:07<00:00,  1.75it/s, Loss=0.0377]\n",
      "Epoch 23/100 - Validation: 100%|██████████| 13/13 [00:04<00:00,  3.11it/s, Loss=0.0404]\n"
     ]
    },
    {
     "output_type": "stream",
     "name": "stdout",
     "text": [
      "Epoch 23/100, Train Loss: 0.0377, Val Loss: 0.0404\n"
     ]
    },
    {
     "output_type": "stream",
     "name": "stderr",
     "text": [
      "Epoch 24/100 - Training: 100%|██████████| 13/13 [00:07<00:00,  1.76it/s, Loss=0.037]\n",
      "Epoch 24/100 - Validation: 100%|██████████| 13/13 [00:03<00:00,  3.33it/s, Loss=0.0399]\n"
     ]
    },
    {
     "output_type": "stream",
     "name": "stdout",
     "text": [
      "Epoch 24/100, Train Loss: 0.0370, Val Loss: 0.0399\n"
     ]
    },
    {
     "output_type": "stream",
     "name": "stderr",
     "text": [
      "Epoch 25/100 - Training: 100%|██████████| 13/13 [00:07<00:00,  1.73it/s, Loss=0.0363]\n",
      "Epoch 25/100 - Validation: 100%|██████████| 13/13 [00:03<00:00,  3.77it/s, Loss=0.0404]\n"
     ]
    },
    {
     "output_type": "stream",
     "name": "stdout",
     "text": [
      "Epoch 25/100, Train Loss: 0.0363, Val Loss: 0.0404\n"
     ]
    },
    {
     "output_type": "stream",
     "name": "stderr",
     "text": [
      "Epoch 26/100 - Training: 100%|██████████| 13/13 [00:07<00:00,  1.68it/s, Loss=0.0361]\n",
      "Epoch 26/100 - Validation: 100%|██████████| 13/13 [00:03<00:00,  3.75it/s, Loss=0.0385]\n"
     ]
    },
    {
     "output_type": "stream",
     "name": "stdout",
     "text": [
      "Epoch 26/100, Train Loss: 0.0361, Val Loss: 0.0385\n"
     ]
    },
    {
     "output_type": "stream",
     "name": "stderr",
     "text": [
      "Epoch 27/100 - Training: 100%|██████████| 13/13 [00:07<00:00,  1.67it/s, Loss=0.0355]\n",
      "Epoch 27/100 - Validation: 100%|██████████| 13/13 [00:03<00:00,  3.74it/s, Loss=0.0391]\n"
     ]
    },
    {
     "output_type": "stream",
     "name": "stdout",
     "text": [
      "Epoch 27/100, Train Loss: 0.0355, Val Loss: 0.0391\n"
     ]
    },
    {
     "output_type": "stream",
     "name": "stderr",
     "text": [
      "Epoch 28/100 - Training: 100%|██████████| 13/13 [00:07<00:00,  1.68it/s, Loss=0.0349]\n",
      "Epoch 28/100 - Validation: 100%|██████████| 13/13 [00:03<00:00,  3.72it/s, Loss=0.0377]\n"
     ]
    },
    {
     "output_type": "stream",
     "name": "stdout",
     "text": [
      "Epoch 28/100, Train Loss: 0.0349, Val Loss: 0.0377\n"
     ]
    },
    {
     "output_type": "stream",
     "name": "stderr",
     "text": [
      "Epoch 29/100 - Training: 100%|██████████| 13/13 [00:07<00:00,  1.66it/s, Loss=0.0343]\n",
      "Epoch 29/100 - Validation: 100%|██████████| 13/13 [00:03<00:00,  3.27it/s, Loss=0.0376]\n"
     ]
    },
    {
     "output_type": "stream",
     "name": "stdout",
     "text": [
      "Epoch 29/100, Train Loss: 0.0343, Val Loss: 0.0376\n"
     ]
    },
    {
     "output_type": "stream",
     "name": "stderr",
     "text": [
      "Epoch 30/100 - Training: 100%|██████████| 13/13 [00:07<00:00,  1.75it/s, Loss=0.0337]\n",
      "Epoch 30/100 - Validation: 100%|██████████| 13/13 [00:04<00:00,  3.14it/s, Loss=0.0358]\n"
     ]
    },
    {
     "output_type": "stream",
     "name": "stdout",
     "text": [
      "Epoch 30/100, Train Loss: 0.0337, Val Loss: 0.0358\n"
     ]
    },
    {
     "output_type": "stream",
     "name": "stderr",
     "text": [
      "Epoch 31/100 - Training: 100%|██████████| 13/13 [00:07<00:00,  1.76it/s, Loss=0.0334]\n",
      "Epoch 31/100 - Validation: 100%|██████████| 13/13 [00:04<00:00,  3.25it/s, Loss=0.0368]\n"
     ]
    },
    {
     "output_type": "stream",
     "name": "stdout",
     "text": [
      "Epoch 31/100, Train Loss: 0.0334, Val Loss: 0.0368\n"
     ]
    },
    {
     "output_type": "stream",
     "name": "stderr",
     "text": [
      "Epoch 32/100 - Training: 100%|██████████| 13/13 [00:07<00:00,  1.72it/s, Loss=0.0323]\n",
      "Epoch 32/100 - Validation: 100%|██████████| 13/13 [00:03<00:00,  3.77it/s, Loss=0.0365]\n"
     ]
    },
    {
     "output_type": "stream",
     "name": "stdout",
     "text": [
      "Epoch 32/100, Train Loss: 0.0323, Val Loss: 0.0365\n"
     ]
    },
    {
     "output_type": "stream",
     "name": "stderr",
     "text": [
      "Epoch 33/100 - Training: 100%|██████████| 13/13 [00:07<00:00,  1.67it/s, Loss=0.0321]\n",
      "Epoch 33/100 - Validation: 100%|██████████| 13/13 [00:03<00:00,  3.74it/s, Loss=0.0386]\n"
     ]
    },
    {
     "output_type": "stream",
     "name": "stdout",
     "text": [
      "Epoch 33/100, Train Loss: 0.0321, Val Loss: 0.0386\n"
     ]
    },
    {
     "output_type": "stream",
     "name": "stderr",
     "text": [
      "Epoch 34/100 - Training: 100%|██████████| 13/13 [00:07<00:00,  1.66it/s, Loss=0.0321]\n",
      "Epoch 34/100 - Validation: 100%|██████████| 13/13 [00:03<00:00,  3.77it/s, Loss=0.035]\n"
     ]
    },
    {
     "output_type": "stream",
     "name": "stdout",
     "text": [
      "Epoch 34/100, Train Loss: 0.0321, Val Loss: 0.0350\n"
     ]
    },
    {
     "output_type": "stream",
     "name": "stderr",
     "text": [
      "Epoch 35/100 - Training: 100%|██████████| 13/13 [00:07<00:00,  1.69it/s, Loss=0.0311]\n",
      "Epoch 35/100 - Validation: 100%|██████████| 13/13 [00:03<00:00,  3.65it/s, Loss=0.0376]\n"
     ]
    },
    {
     "output_type": "stream",
     "name": "stdout",
     "text": [
      "Epoch 35/100, Train Loss: 0.0311, Val Loss: 0.0376\n"
     ]
    },
    {
     "output_type": "stream",
     "name": "stderr",
     "text": [
      "Epoch 36/100 - Training: 100%|██████████| 13/13 [00:07<00:00,  1.75it/s, Loss=0.0306]\n",
      "Epoch 36/100 - Validation: 100%|██████████| 13/13 [00:04<00:00,  3.14it/s, Loss=0.036]\n"
     ]
    },
    {
     "output_type": "stream",
     "name": "stdout",
     "text": [
      "Epoch 36/100, Train Loss: 0.0306, Val Loss: 0.0360\n"
     ]
    },
    {
     "output_type": "stream",
     "name": "stderr",
     "text": [
      "Epoch 37/100 - Training: 100%|██████████| 13/13 [00:07<00:00,  1.75it/s, Loss=0.0304]\n",
      "Epoch 37/100 - Validation: 100%|██████████| 13/13 [00:03<00:00,  3.40it/s, Loss=0.0344]\n"
     ]
    },
    {
     "output_type": "stream",
     "name": "stdout",
     "text": [
      "Epoch 37/100, Train Loss: 0.0304, Val Loss: 0.0344\n"
     ]
    },
    {
     "output_type": "stream",
     "name": "stderr",
     "text": [
      "Epoch 38/100 - Training: 100%|██████████| 13/13 [00:07<00:00,  1.72it/s, Loss=0.03]\n",
      "Epoch 38/100 - Validation: 100%|██████████| 13/13 [00:03<00:00,  3.65it/s, Loss=0.0328]\n"
     ]
    },
    {
     "output_type": "stream",
     "name": "stdout",
     "text": [
      "Epoch 38/100, Train Loss: 0.0300, Val Loss: 0.0328\n"
     ]
    },
    {
     "output_type": "stream",
     "name": "stderr",
     "text": [
      "Epoch 39/100 - Training: 100%|██████████| 13/13 [00:07<00:00,  1.67it/s, Loss=0.0294]\n",
      "Epoch 39/100 - Validation: 100%|██████████| 13/13 [00:03<00:00,  3.71it/s, Loss=0.0342]\n"
     ]
    },
    {
     "output_type": "stream",
     "name": "stdout",
     "text": [
      "Epoch 39/100, Train Loss: 0.0294, Val Loss: 0.0342\n"
     ]
    },
    {
     "output_type": "stream",
     "name": "stderr",
     "text": [
      "Epoch 40/100 - Training: 100%|██████████| 13/13 [00:07<00:00,  1.67it/s, Loss=0.0293]\n",
      "Epoch 40/100 - Validation: 100%|██████████| 13/13 [00:03<00:00,  3.57it/s, Loss=0.0323]\n"
     ]
    },
    {
     "output_type": "stream",
     "name": "stdout",
     "text": [
      "Epoch 40/100, Train Loss: 0.0293, Val Loss: 0.0323\n"
     ]
    },
    {
     "output_type": "stream",
     "name": "stderr",
     "text": [
      "Epoch 41/100 - Training: 100%|██████████| 13/13 [00:07<00:00,  1.65it/s, Loss=0.0287]\n",
      "Epoch 41/100 - Validation: 100%|██████████| 13/13 [00:03<00:00,  3.72it/s, Loss=0.034]\n"
     ]
    },
    {
     "output_type": "stream",
     "name": "stdout",
     "text": [
      "Epoch 41/100, Train Loss: 0.0287, Val Loss: 0.0340\n"
     ]
    },
    {
     "output_type": "stream",
     "name": "stderr",
     "text": [
      "Epoch 42/100 - Training: 100%|██████████| 13/13 [00:07<00:00,  1.68it/s, Loss=0.0285]\n",
      "Epoch 42/100 - Validation: 100%|██████████| 13/13 [00:03<00:00,  3.69it/s, Loss=0.0327]\n"
     ]
    },
    {
     "output_type": "stream",
     "name": "stdout",
     "text": [
      "Epoch 42/100, Train Loss: 0.0285, Val Loss: 0.0327\n"
     ]
    },
    {
     "output_type": "stream",
     "name": "stderr",
     "text": [
      "Epoch 43/100 - Training: 100%|██████████| 13/13 [00:07<00:00,  1.74it/s, Loss=0.028]\n",
      "Epoch 43/100 - Validation: 100%|██████████| 13/13 [00:04<00:00,  3.17it/s, Loss=0.0325]\n"
     ]
    },
    {
     "output_type": "stream",
     "name": "stdout",
     "text": [
      "Epoch 43/100, Train Loss: 0.0280, Val Loss: 0.0325\n"
     ]
    },
    {
     "output_type": "stream",
     "name": "stderr",
     "text": [
      "Epoch 44/100 - Training: 100%|██████████| 13/13 [00:07<00:00,  1.74it/s, Loss=0.0279]\n",
      "Epoch 44/100 - Validation: 100%|██████████| 13/13 [00:03<00:00,  3.31it/s, Loss=0.0323]\n"
     ]
    },
    {
     "output_type": "stream",
     "name": "stdout",
     "text": [
      "Epoch 44/100, Train Loss: 0.0279, Val Loss: 0.0323\n"
     ]
    },
    {
     "output_type": "stream",
     "name": "stderr",
     "text": [
      "Epoch 45/100 - Training: 100%|██████████| 13/13 [00:07<00:00,  1.71it/s, Loss=0.0277]\n",
      "Epoch 45/100 - Validation: 100%|██████████| 13/13 [00:03<00:00,  3.73it/s, Loss=0.0308]\n"
     ]
    },
    {
     "output_type": "stream",
     "name": "stdout",
     "text": [
      "Epoch 45/100, Train Loss: 0.0277, Val Loss: 0.0308\n"
     ]
    },
    {
     "output_type": "stream",
     "name": "stderr",
     "text": [
      "Epoch 46/100 - Training: 100%|██████████| 13/13 [00:07<00:00,  1.69it/s, Loss=0.0272]\n",
      "Epoch 46/100 - Validation: 100%|██████████| 13/13 [00:03<00:00,  3.72it/s, Loss=0.0304]\n"
     ]
    },
    {
     "output_type": "stream",
     "name": "stdout",
     "text": [
      "Epoch 46/100, Train Loss: 0.0272, Val Loss: 0.0304\n"
     ]
    },
    {
     "output_type": "stream",
     "name": "stderr",
     "text": [
      "Epoch 47/100 - Training: 100%|██████████| 13/13 [00:07<00:00,  1.66it/s, Loss=0.027]\n",
      "Epoch 47/100 - Validation: 100%|██████████| 13/13 [00:03<00:00,  3.69it/s, Loss=0.03]\n"
     ]
    },
    {
     "output_type": "stream",
     "name": "stdout",
     "text": [
      "Epoch 47/100, Train Loss: 0.0270, Val Loss: 0.0300\n"
     ]
    },
    {
     "output_type": "stream",
     "name": "stderr",
     "text": [
      "Epoch 48/100 - Training: 100%|██████████| 13/13 [00:07<00:00,  1.66it/s, Loss=0.0272]\n",
      "Epoch 48/100 - Validation: 100%|██████████| 13/13 [00:04<00:00,  3.23it/s, Loss=0.0305]\n"
     ]
    },
    {
     "output_type": "stream",
     "name": "stdout",
     "text": [
      "Epoch 48/100, Train Loss: 0.0272, Val Loss: 0.0305\n"
     ]
    },
    {
     "output_type": "stream",
     "name": "stderr",
     "text": [
      "Epoch 49/100 - Training: 100%|██████████| 13/13 [00:07<00:00,  1.65it/s, Loss=0.0267]\n",
      "Epoch 49/100 - Validation: 100%|██████████| 13/13 [00:03<00:00,  3.67it/s, Loss=0.0313]\n"
     ]
    },
    {
     "output_type": "stream",
     "name": "stdout",
     "text": [
      "Epoch 49/100, Train Loss: 0.0267, Val Loss: 0.0313\n"
     ]
    },
    {
     "output_type": "stream",
     "name": "stderr",
     "text": [
      "Epoch 50/100 - Training: 100%|██████████| 13/13 [00:07<00:00,  1.75it/s, Loss=0.027]\n",
      "Epoch 50/100 - Validation: 100%|██████████| 13/13 [00:04<00:00,  3.19it/s, Loss=0.0309]\n"
     ]
    },
    {
     "output_type": "stream",
     "name": "stdout",
     "text": [
      "Epoch 50/100, Train Loss: 0.0270, Val Loss: 0.0309\n"
     ]
    },
    {
     "output_type": "stream",
     "name": "stderr",
     "text": [
      "Epoch 51/100 - Training: 100%|██████████| 13/13 [00:07<00:00,  1.76it/s, Loss=0.0263]\n",
      "Epoch 51/100 - Validation: 100%|██████████| 13/13 [00:03<00:00,  3.35it/s, Loss=0.0296]\n"
     ]
    },
    {
     "output_type": "stream",
     "name": "stdout",
     "text": [
      "Epoch 51/100, Train Loss: 0.0263, Val Loss: 0.0296\n"
     ]
    },
    {
     "output_type": "stream",
     "name": "stderr",
     "text": [
      "Epoch 52/100 - Training: 100%|██████████| 13/13 [00:07<00:00,  1.73it/s, Loss=0.0259]\n",
      "Epoch 52/100 - Validation: 100%|██████████| 13/13 [00:03<00:00,  3.71it/s, Loss=0.03]\n"
     ]
    },
    {
     "output_type": "stream",
     "name": "stdout",
     "text": [
      "Epoch 52/100, Train Loss: 0.0259, Val Loss: 0.0300\n"
     ]
    },
    {
     "output_type": "stream",
     "name": "stderr",
     "text": [
      "Epoch 53/100 - Training: 100%|██████████| 13/13 [00:07<00:00,  1.66it/s, Loss=0.0258]\n",
      "Epoch 53/100 - Validation: 100%|██████████| 13/13 [00:03<00:00,  3.74it/s, Loss=0.03]\n"
     ]
    },
    {
     "output_type": "stream",
     "name": "stdout",
     "text": [
      "Epoch 53/100, Train Loss: 0.0258, Val Loss: 0.0300\n"
     ]
    },
    {
     "output_type": "stream",
     "name": "stderr",
     "text": [
      "Epoch 54/100 - Training: 100%|██████████| 13/13 [00:07<00:00,  1.67it/s, Loss=0.0259]\n",
      "Epoch 54/100 - Validation: 100%|██████████| 13/13 [00:03<00:00,  3.72it/s, Loss=0.03]\n"
     ]
    },
    {
     "output_type": "stream",
     "name": "stdout",
     "text": [
      "Epoch 54/100, Train Loss: 0.0259, Val Loss: 0.0300\n"
     ]
    },
    {
     "output_type": "stream",
     "name": "stderr",
     "text": [
      "Epoch 55/100 - Training: 100%|██████████| 13/13 [00:07<00:00,  1.68it/s, Loss=0.0257]\n",
      "Epoch 55/100 - Validation: 100%|██████████| 13/13 [00:03<00:00,  3.65it/s, Loss=0.0299]\n"
     ]
    },
    {
     "output_type": "stream",
     "name": "stdout",
     "text": [
      "Epoch 55/100, Train Loss: 0.0257, Val Loss: 0.0299\n"
     ]
    },
    {
     "output_type": "stream",
     "name": "stderr",
     "text": [
      "Epoch 56/100 - Training: 100%|██████████| 13/13 [00:07<00:00,  1.74it/s, Loss=0.0252]\n",
      "Epoch 56/100 - Validation: 100%|██████████| 13/13 [00:04<00:00,  3.13it/s, Loss=0.0288]\n"
     ]
    },
    {
     "output_type": "stream",
     "name": "stdout",
     "text": [
      "Epoch 56/100, Train Loss: 0.0252, Val Loss: 0.0288\n"
     ]
    },
    {
     "output_type": "stream",
     "name": "stderr",
     "text": [
      "Epoch 57/100 - Training: 100%|██████████| 13/13 [00:07<00:00,  1.75it/s, Loss=0.0251]\n",
      "Epoch 57/100 - Validation: 100%|██████████| 13/13 [00:04<00:00,  3.12it/s, Loss=0.0302]\n"
     ]
    },
    {
     "output_type": "stream",
     "name": "stdout",
     "text": [
      "Epoch 57/100, Train Loss: 0.0251, Val Loss: 0.0302\n"
     ]
    },
    {
     "output_type": "stream",
     "name": "stderr",
     "text": [
      "Epoch 58/100 - Training: 100%|██████████| 13/13 [00:07<00:00,  1.73it/s, Loss=0.0248]\n",
      "Epoch 58/100 - Validation: 100%|██████████| 13/13 [00:03<00:00,  3.50it/s, Loss=0.0291]\n"
     ]
    },
    {
     "output_type": "stream",
     "name": "stdout",
     "text": [
      "Epoch 58/100, Train Loss: 0.0248, Val Loss: 0.0291\n"
     ]
    },
    {
     "output_type": "stream",
     "name": "stderr",
     "text": [
      "Epoch 59/100 - Training: 100%|██████████| 13/13 [00:07<00:00,  1.68it/s, Loss=0.0248]\n",
      "Epoch 59/100 - Validation: 100%|██████████| 13/13 [00:03<00:00,  3.71it/s, Loss=0.0287]\n"
     ]
    },
    {
     "output_type": "stream",
     "name": "stdout",
     "text": [
      "Epoch 59/100, Train Loss: 0.0248, Val Loss: 0.0287\n"
     ]
    },
    {
     "output_type": "stream",
     "name": "stderr",
     "text": [
      "Epoch 60/100 - Training: 100%|██████████| 13/13 [00:07<00:00,  1.66it/s, Loss=0.0251]\n",
      "Epoch 60/100 - Validation: 100%|██████████| 13/13 [00:03<00:00,  3.73it/s, Loss=0.0298]\n"
     ]
    },
    {
     "output_type": "stream",
     "name": "stdout",
     "text": [
      "Epoch 60/100, Train Loss: 0.0251, Val Loss: 0.0298\n"
     ]
    },
    {
     "output_type": "stream",
     "name": "stderr",
     "text": [
      "Epoch 61/100 - Training: 100%|██████████| 13/13 [00:07<00:00,  1.65it/s, Loss=0.0248]\n",
      "Epoch 61/100 - Validation: 100%|██████████| 13/13 [00:03<00:00,  3.68it/s, Loss=0.0291]\n"
     ]
    },
    {
     "output_type": "stream",
     "name": "stdout",
     "text": [
      "Epoch 61/100, Train Loss: 0.0248, Val Loss: 0.0291\n"
     ]
    },
    {
     "output_type": "stream",
     "name": "stderr",
     "text": [
      "Epoch 62/100 - Training: 100%|██████████| 13/13 [00:07<00:00,  1.68it/s, Loss=0.0245]\n",
      "Epoch 62/100 - Validation: 100%|██████████| 13/13 [00:03<00:00,  3.54it/s, Loss=0.0305]\n"
     ]
    },
    {
     "output_type": "stream",
     "name": "stdout",
     "text": [
      "Epoch 62/100, Train Loss: 0.0245, Val Loss: 0.0305\n"
     ]
    },
    {
     "output_type": "stream",
     "name": "stderr",
     "text": [
      "Epoch 63/100 - Training: 100%|██████████| 13/13 [00:07<00:00,  1.75it/s, Loss=0.0247]\n",
      "Epoch 63/100 - Validation: 100%|██████████| 13/13 [00:04<00:00,  3.02it/s, Loss=0.0291]\n"
     ]
    },
    {
     "output_type": "stream",
     "name": "stdout",
     "text": [
      "Epoch 63/100, Train Loss: 0.0247, Val Loss: 0.0291\n"
     ]
    },
    {
     "output_type": "stream",
     "name": "stderr",
     "text": [
      "Epoch 64/100 - Training: 100%|██████████| 13/13 [00:07<00:00,  1.75it/s, Loss=0.0243]\n",
      "Epoch 64/100 - Validation: 100%|██████████| 13/13 [00:03<00:00,  3.42it/s, Loss=0.0287]\n"
     ]
    },
    {
     "output_type": "stream",
     "name": "stdout",
     "text": [
      "Epoch 64/100, Train Loss: 0.0243, Val Loss: 0.0287\n"
     ]
    },
    {
     "output_type": "stream",
     "name": "stderr",
     "text": [
      "Epoch 65/100 - Training: 100%|██████████| 13/13 [00:07<00:00,  1.71it/s, Loss=0.024]\n",
      "Epoch 65/100 - Validation: 100%|██████████| 13/13 [00:03<00:00,  3.71it/s, Loss=0.0284]\n"
     ]
    },
    {
     "output_type": "stream",
     "name": "stdout",
     "text": [
      "Epoch 65/100, Train Loss: 0.0240, Val Loss: 0.0284\n"
     ]
    },
    {
     "output_type": "stream",
     "name": "stderr",
     "text": [
      "Epoch 66/100 - Training: 100%|██████████| 13/13 [00:07<00:00,  1.67it/s, Loss=0.0238]\n",
      "Epoch 66/100 - Validation: 100%|██████████| 13/13 [00:03<00:00,  3.74it/s, Loss=0.028]\n"
     ]
    },
    {
     "output_type": "stream",
     "name": "stdout",
     "text": [
      "Epoch 66/100, Train Loss: 0.0238, Val Loss: 0.0280\n"
     ]
    },
    {
     "output_type": "stream",
     "name": "stderr",
     "text": [
      "Epoch 67/100 - Training: 100%|██████████| 13/13 [00:07<00:00,  1.66it/s, Loss=0.0238]\n",
      "Epoch 67/100 - Validation: 100%|██████████| 13/13 [00:03<00:00,  3.69it/s, Loss=0.0282]\n"
     ]
    },
    {
     "output_type": "stream",
     "name": "stdout",
     "text": [
      "Epoch 67/100, Train Loss: 0.0238, Val Loss: 0.0282\n"
     ]
    },
    {
     "output_type": "stream",
     "name": "stderr",
     "text": [
      "Epoch 68/100 - Training: 100%|██████████| 13/13 [00:07<00:00,  1.63it/s, Loss=0.0232]\n",
      "Epoch 68/100 - Validation: 100%|██████████| 13/13 [00:04<00:00,  3.16it/s, Loss=0.0276]\n"
     ]
    },
    {
     "output_type": "stream",
     "name": "stdout",
     "text": [
      "Epoch 68/100, Train Loss: 0.0232, Val Loss: 0.0276\n"
     ]
    },
    {
     "output_type": "stream",
     "name": "stderr",
     "text": [
      "Epoch 69/100 - Training: 100%|██████████| 13/13 [00:07<00:00,  1.70it/s, Loss=0.0232]\n",
      "Epoch 69/100 - Validation: 100%|██████████| 13/13 [00:03<00:00,  3.36it/s, Loss=0.0303]\n"
     ]
    },
    {
     "output_type": "stream",
     "name": "stdout",
     "text": [
      "Epoch 69/100, Train Loss: 0.0232, Val Loss: 0.0303\n"
     ]
    },
    {
     "output_type": "stream",
     "name": "stderr",
     "text": [
      "Epoch 70/100 - Training: 100%|██████████| 13/13 [00:07<00:00,  1.75it/s, Loss=0.0234]\n",
      "Epoch 70/100 - Validation: 100%|██████████| 13/13 [00:04<00:00,  3.06it/s, Loss=0.0286]\n"
     ]
    },
    {
     "output_type": "stream",
     "name": "stdout",
     "text": [
      "Epoch 70/100, Train Loss: 0.0234, Val Loss: 0.0286\n"
     ]
    },
    {
     "output_type": "stream",
     "name": "stderr",
     "text": [
      "Epoch 71/100 - Training: 100%|██████████| 13/13 [00:07<00:00,  1.74it/s, Loss=0.0233]\n",
      "Epoch 71/100 - Validation: 100%|██████████| 13/13 [00:03<00:00,  3.56it/s, Loss=0.0281]\n"
     ]
    },
    {
     "output_type": "stream",
     "name": "stdout",
     "text": [
      "Epoch 71/100, Train Loss: 0.0233, Val Loss: 0.0281\n"
     ]
    },
    {
     "output_type": "stream",
     "name": "stderr",
     "text": [
      "Epoch 72/100 - Training: 100%|██████████| 13/13 [00:07<00:00,  1.68it/s, Loss=0.0226]\n",
      "Epoch 72/100 - Validation: 100%|██████████| 13/13 [00:03<00:00,  3.69it/s, Loss=0.0276]\n"
     ]
    },
    {
     "output_type": "stream",
     "name": "stdout",
     "text": [
      "Epoch 72/100, Train Loss: 0.0226, Val Loss: 0.0276\n"
     ]
    },
    {
     "output_type": "stream",
     "name": "stderr",
     "text": [
      "Epoch 73/100 - Training: 100%|██████████| 13/13 [00:07<00:00,  1.66it/s, Loss=0.0222]\n",
      "Epoch 73/100 - Validation: 100%|██████████| 13/13 [00:03<00:00,  3.69it/s, Loss=0.0277]\n"
     ]
    },
    {
     "output_type": "stream",
     "name": "stdout",
     "text": [
      "Epoch 73/100, Train Loss: 0.0222, Val Loss: 0.0277\n"
     ]
    },
    {
     "output_type": "stream",
     "name": "stderr",
     "text": [
      "Epoch 74/100 - Training: 100%|██████████| 13/13 [00:07<00:00,  1.67it/s, Loss=0.0224]\n",
      "Epoch 74/100 - Validation: 100%|██████████| 13/13 [00:03<00:00,  3.67it/s, Loss=0.0284]\n"
     ]
    },
    {
     "output_type": "stream",
     "name": "stdout",
     "text": [
      "Epoch 74/100, Train Loss: 0.0224, Val Loss: 0.0284\n"
     ]
    },
    {
     "output_type": "stream",
     "name": "stderr",
     "text": [
      "Epoch 75/100 - Training: 100%|██████████| 13/13 [00:07<00:00,  1.73it/s, Loss=0.0222]\n",
      "Epoch 75/100 - Validation: 100%|██████████| 13/13 [00:03<00:00,  3.29it/s, Loss=0.0279]\n"
     ]
    },
    {
     "output_type": "stream",
     "name": "stdout",
     "text": [
      "Epoch 75/100, Train Loss: 0.0222, Val Loss: 0.0279\n"
     ]
    },
    {
     "output_type": "stream",
     "name": "stderr",
     "text": [
      "Epoch 76/100 - Training: 100%|██████████| 13/13 [00:07<00:00,  1.76it/s, Loss=0.0221]\n",
      "Epoch 76/100 - Validation: 100%|██████████| 13/13 [00:04<00:00,  3.09it/s, Loss=0.0276]\n"
     ]
    },
    {
     "output_type": "stream",
     "name": "stdout",
     "text": [
      "Epoch 76/100, Train Loss: 0.0221, Val Loss: 0.0276\n"
     ]
    },
    {
     "output_type": "stream",
     "name": "stderr",
     "text": [
      "Epoch 77/100 - Training: 100%|██████████| 13/13 [00:07<00:00,  1.75it/s, Loss=0.0217]\n",
      "Epoch 77/100 - Validation: 100%|██████████| 13/13 [00:03<00:00,  3.48it/s, Loss=0.0281]\n"
     ]
    },
    {
     "output_type": "stream",
     "name": "stdout",
     "text": [
      "Epoch 77/100, Train Loss: 0.0217, Val Loss: 0.0281\n"
     ]
    },
    {
     "output_type": "stream",
     "name": "stderr",
     "text": [
      "Epoch 78/100 - Training: 100%|██████████| 13/13 [00:07<00:00,  1.70it/s, Loss=0.0217]\n",
      "Epoch 78/100 - Validation: 100%|██████████| 13/13 [00:03<00:00,  3.71it/s, Loss=0.0281]\n"
     ]
    },
    {
     "output_type": "stream",
     "name": "stdout",
     "text": [
      "Epoch 78/100, Train Loss: 0.0217, Val Loss: 0.0281\n"
     ]
    },
    {
     "output_type": "stream",
     "name": "stderr",
     "text": [
      "Epoch 79/100 - Training: 100%|██████████| 13/13 [00:07<00:00,  1.66it/s, Loss=0.0216]\n",
      "Epoch 79/100 - Validation: 100%|██████████| 13/13 [00:03<00:00,  3.74it/s, Loss=0.0278]\n"
     ]
    },
    {
     "output_type": "stream",
     "name": "stdout",
     "text": [
      "Epoch 79/100, Train Loss: 0.0216, Val Loss: 0.0278\n"
     ]
    },
    {
     "output_type": "stream",
     "name": "stderr",
     "text": [
      "Epoch 80/100 - Training: 100%|██████████| 13/13 [00:07<00:00,  1.66it/s, Loss=0.0216]\n",
      "Epoch 80/100 - Validation: 100%|██████████| 13/13 [00:03<00:00,  3.69it/s, Loss=0.0286]\n"
     ]
    },
    {
     "output_type": "stream",
     "name": "stdout",
     "text": [
      "Epoch 80/100, Train Loss: 0.0216, Val Loss: 0.0286\n"
     ]
    },
    {
     "output_type": "stream",
     "name": "stderr",
     "text": [
      "Epoch 81/100 - Training: 100%|██████████| 13/13 [00:07<00:00,  1.71it/s, Loss=0.0217]\n",
      "Epoch 81/100 - Validation: 100%|██████████| 13/13 [00:03<00:00,  3.37it/s, Loss=0.0274]\n"
     ]
    },
    {
     "output_type": "stream",
     "name": "stdout",
     "text": [
      "Epoch 81/100, Train Loss: 0.0217, Val Loss: 0.0274\n"
     ]
    },
    {
     "output_type": "stream",
     "name": "stderr",
     "text": [
      "Epoch 82/100 - Training: 100%|██████████| 13/13 [00:07<00:00,  1.75it/s, Loss=0.0218]\n",
      "Epoch 82/100 - Validation: 100%|██████████| 13/13 [00:04<00:00,  3.20it/s, Loss=0.0274]\n"
     ]
    },
    {
     "output_type": "stream",
     "name": "stdout",
     "text": [
      "Epoch 82/100, Train Loss: 0.0218, Val Loss: 0.0274\n"
     ]
    },
    {
     "output_type": "stream",
     "name": "stderr",
     "text": [
      "Epoch 83/100 - Training: 100%|██████████| 13/13 [00:07<00:00,  1.75it/s, Loss=0.0213]\n",
      "Epoch 83/100 - Validation: 100%|██████████| 13/13 [00:04<00:00,  3.22it/s, Loss=0.0292]\n"
     ]
    },
    {
     "output_type": "stream",
     "name": "stdout",
     "text": [
      "Epoch 83/100, Train Loss: 0.0213, Val Loss: 0.0292\n"
     ]
    },
    {
     "output_type": "stream",
     "name": "stderr",
     "text": [
      "Epoch 84/100 - Training: 100%|██████████| 13/13 [00:07<00:00,  1.72it/s, Loss=0.021]\n",
      "Epoch 84/100 - Validation: 100%|██████████| 13/13 [00:03<00:00,  3.73it/s, Loss=0.0276]\n"
     ]
    },
    {
     "output_type": "stream",
     "name": "stdout",
     "text": [
      "Epoch 84/100, Train Loss: 0.0210, Val Loss: 0.0276\n"
     ]
    },
    {
     "output_type": "stream",
     "name": "stderr",
     "text": [
      "Epoch 85/100 - Training: 100%|██████████| 13/13 [00:07<00:00,  1.67it/s, Loss=0.0207]\n",
      "Epoch 85/100 - Validation: 100%|██████████| 13/13 [00:03<00:00,  3.69it/s, Loss=0.0284]\n"
     ]
    },
    {
     "output_type": "stream",
     "name": "stdout",
     "text": [
      "Epoch 85/100, Train Loss: 0.0207, Val Loss: 0.0284\n"
     ]
    },
    {
     "output_type": "stream",
     "name": "stderr",
     "text": [
      "Epoch 86/100 - Training: 100%|██████████| 13/13 [00:07<00:00,  1.66it/s, Loss=0.0209]\n",
      "Epoch 86/100 - Validation: 100%|██████████| 13/13 [00:03<00:00,  3.69it/s, Loss=0.0284]\n"
     ]
    },
    {
     "output_type": "stream",
     "name": "stdout",
     "text": [
      "Epoch 86/100, Train Loss: 0.0209, Val Loss: 0.0284\n"
     ]
    },
    {
     "output_type": "stream",
     "name": "stderr",
     "text": [
      "Epoch 87/100 - Training: 100%|██████████| 13/13 [00:07<00:00,  1.67it/s, Loss=0.0208]\n",
      "Epoch 87/100 - Validation: 100%|██████████| 13/13 [00:03<00:00,  3.47it/s, Loss=0.0284]\n"
     ]
    },
    {
     "output_type": "stream",
     "name": "stdout",
     "text": [
      "Epoch 87/100, Train Loss: 0.0208, Val Loss: 0.0284\n"
     ]
    },
    {
     "output_type": "stream",
     "name": "stderr",
     "text": [
      "Epoch 88/100 - Training: 100%|██████████| 13/13 [00:07<00:00,  1.76it/s, Loss=0.0203]\n",
      "Epoch 88/100 - Validation: 100%|██████████| 13/13 [00:04<00:00,  2.88it/s, Loss=0.0274]\n"
     ]
    },
    {
     "output_type": "stream",
     "name": "stdout",
     "text": [
      "Epoch 88/100, Train Loss: 0.0203, Val Loss: 0.0274\n"
     ]
    },
    {
     "output_type": "stream",
     "name": "stderr",
     "text": [
      "Epoch 89/100 - Training: 100%|██████████| 13/13 [00:07<00:00,  1.66it/s, Loss=0.0199]\n",
      "Epoch 89/100 - Validation: 100%|██████████| 13/13 [00:03<00:00,  3.71it/s, Loss=0.0272]\n"
     ]
    },
    {
     "output_type": "stream",
     "name": "stdout",
     "text": [
      "Epoch 89/100, Train Loss: 0.0199, Val Loss: 0.0272\n"
     ]
    },
    {
     "output_type": "stream",
     "name": "stderr",
     "text": [
      "Epoch 90/100 - Training: 100%|██████████| 13/13 [00:07<00:00,  1.66it/s, Loss=0.0199]\n",
      "Epoch 90/100 - Validation: 100%|██████████| 13/13 [00:03<00:00,  3.74it/s, Loss=0.0273]\n"
     ]
    },
    {
     "output_type": "stream",
     "name": "stdout",
     "text": [
      "Epoch 90/100, Train Loss: 0.0199, Val Loss: 0.0273\n"
     ]
    },
    {
     "output_type": "stream",
     "name": "stderr",
     "text": [
      "Epoch 91/100 - Training: 100%|██████████| 13/13 [00:07<00:00,  1.66it/s, Loss=0.0206]\n",
      "Epoch 91/100 - Validation: 100%|██████████| 13/13 [00:03<00:00,  3.74it/s, Loss=0.0279]\n"
     ]
    },
    {
     "output_type": "stream",
     "name": "stdout",
     "text": [
      "Epoch 91/100, Train Loss: 0.0206, Val Loss: 0.0279\n"
     ]
    },
    {
     "output_type": "stream",
     "name": "stderr",
     "text": [
      "Epoch 92/100 - Training: 100%|██████████| 13/13 [00:07<00:00,  1.68it/s, Loss=0.0206]\n",
      "Epoch 92/100 - Validation: 100%|██████████| 13/13 [00:03<00:00,  3.54it/s, Loss=0.0289]\n"
     ]
    },
    {
     "output_type": "stream",
     "name": "stdout",
     "text": [
      "Epoch 92/100, Train Loss: 0.0206, Val Loss: 0.0289\n"
     ]
    },
    {
     "output_type": "stream",
     "name": "stderr",
     "text": [
      "Epoch 93/100 - Training: 100%|██████████| 13/13 [00:07<00:00,  1.74it/s, Loss=0.0203]\n",
      "Epoch 93/100 - Validation: 100%|██████████| 13/13 [00:04<00:00,  3.10it/s, Loss=0.0274]\n"
     ]
    },
    {
     "output_type": "stream",
     "name": "stdout",
     "text": [
      "Epoch 93/100, Train Loss: 0.0203, Val Loss: 0.0274\n"
     ]
    },
    {
     "output_type": "stream",
     "name": "stderr",
     "text": [
      "Epoch 94/100 - Training: 100%|██████████| 13/13 [00:07<00:00,  1.75it/s, Loss=0.0198]\n",
      "Epoch 94/100 - Validation: 100%|██████████| 13/13 [00:04<00:00,  3.25it/s, Loss=0.0282]\n"
     ]
    },
    {
     "output_type": "stream",
     "name": "stdout",
     "text": [
      "Epoch 94/100, Train Loss: 0.0198, Val Loss: 0.0282\n"
     ]
    },
    {
     "output_type": "stream",
     "name": "stderr",
     "text": [
      "Epoch 95/100 - Training: 100%|██████████| 13/13 [00:07<00:00,  1.70it/s, Loss=0.0194]\n",
      "Epoch 95/100 - Validation: 100%|██████████| 13/13 [00:03<00:00,  3.76it/s, Loss=0.0301]\n"
     ]
    },
    {
     "output_type": "stream",
     "name": "stdout",
     "text": [
      "Epoch 95/100, Train Loss: 0.0194, Val Loss: 0.0301\n"
     ]
    },
    {
     "output_type": "stream",
     "name": "stderr",
     "text": [
      "Epoch 96/100 - Training: 100%|██████████| 13/13 [00:07<00:00,  1.66it/s, Loss=0.0199]\n",
      "Epoch 96/100 - Validation: 100%|██████████| 13/13 [00:03<00:00,  3.65it/s, Loss=0.0272]\n"
     ]
    },
    {
     "output_type": "stream",
     "name": "stdout",
     "text": [
      "Epoch 96/100, Train Loss: 0.0199, Val Loss: 0.0272\n"
     ]
    },
    {
     "output_type": "stream",
     "name": "stderr",
     "text": [
      "Epoch 97/100 - Training: 100%|██████████| 13/13 [00:07<00:00,  1.65it/s, Loss=0.0191]\n",
      "Epoch 97/100 - Validation: 100%|██████████| 13/13 [00:03<00:00,  3.74it/s, Loss=0.0287]\n"
     ]
    },
    {
     "output_type": "stream",
     "name": "stdout",
     "text": [
      "Epoch 97/100, Train Loss: 0.0191, Val Loss: 0.0287\n"
     ]
    },
    {
     "output_type": "stream",
     "name": "stderr",
     "text": [
      "Epoch 98/100 - Training: 100%|██████████| 13/13 [00:07<00:00,  1.70it/s, Loss=0.0194]\n",
      "Epoch 98/100 - Validation: 100%|██████████| 13/13 [00:03<00:00,  3.33it/s, Loss=0.0272]\n"
     ]
    },
    {
     "output_type": "stream",
     "name": "stdout",
     "text": [
      "Epoch 98/100, Train Loss: 0.0194, Val Loss: 0.0272\n"
     ]
    },
    {
     "output_type": "stream",
     "name": "stderr",
     "text": [
      "Epoch 99/100 - Training: 100%|██████████| 13/13 [00:07<00:00,  1.74it/s, Loss=0.019]\n",
      "Epoch 99/100 - Validation: 100%|██████████| 13/13 [00:04<00:00,  3.06it/s, Loss=0.0288]\n"
     ]
    },
    {
     "output_type": "stream",
     "name": "stdout",
     "text": [
      "Epoch 99/100, Train Loss: 0.0190, Val Loss: 0.0288\n"
     ]
    },
    {
     "output_type": "stream",
     "name": "stderr",
     "text": [
      "Epoch 100/100 - Training: 100%|██████████| 13/13 [00:07<00:00,  1.75it/s, Loss=0.0187]\n",
      "Epoch 100/100 - Validation: 100%|██████████| 13/13 [00:03<00:00,  3.43it/s, Loss=0.0282]\n"
     ]
    },
    {
     "output_type": "stream",
     "name": "stdout",
     "text": [
      "Epoch 100/100, Train Loss: 0.0187, Val Loss: 0.0282\n"
     ]
    }
   ]
  },
  {
   "cell_type": "code",
   "source": [
    "import torch\n",
    "import torch.nn as nn\n",
    "import torch.optim as optim\n",
    "from torch.utils.data import DataLoader\n",
    "from torchvision import transforms\n",
    "from sklearn.metrics import accuracy_score, f1_score, jaccard_score\n",
    "from tqdm import tqdm\n",
    "import os\n",
    "from PIL import Image\n",
    "\n",
    "\n",
    "# Set the environment variable for CUDA\n",
    "os.environ[\"CUDA_VISIBLE_DEVICES\"] = \"0\"\n",
    "torch.cuda.empty_cache()\n",
    "os.environ['PYTORCH_CUDA_ALLOC_CONF'] = 'expandable_segments:True'\n",
    "\n",
    "class AttentionGate(nn.Module):\n",
    "    def __init__(self, in_channels, gating_channels, inter_channels):\n",
    "        super(AttentionGate, self).__init__()\n",
    "\n",
    "        self.W_g = nn.Conv2d(gating_channels, inter_channels, kernel_size=1, stride=1, padding=0)\n",
    "        self.W_x = nn.Conv2d(in_channels, inter_channels, kernel_size=1, stride=1, padding=0)\n",
    "        self.psi = nn.Conv2d(inter_channels, 1, kernel_size=1, stride=1, padding=0)\n",
    "        self.relu = nn.ReLU(inplace=True)\n",
    "        self.sigmoid = nn.Sigmoid()\n",
    "\n",
    "    def forward(self, x, g):\n",
    "        # g: gating signal from the decoder\n",
    "        # x: feature map from the encoder\n",
    "        g = self.W_g(g)\n",
    "        x = self.W_x(x)\n",
    "\n",
    "        # Combine the two signals\n",
    "        attn = self.relu(g + x)\n",
    "        attn = self.psi(attn)\n",
    "        attn = self.sigmoid(attn)\n",
    "\n",
    "        # Apply the attention map to the feature map x\n",
    "        return x * attn\n",
    "\n",
    "\n",
    "class UNetWithAttention(nn.Module):\n",
    "    def __init__(self, in_channels, out_channels):\n",
    "        super(UNetWithAttention, self).__init__()\n",
    "\n",
    "        def CBR(in_channels, out_channels):\n",
    "            return nn.Sequential(\n",
    "                nn.Conv2d(in_channels, out_channels, kernel_size=3, padding=1),\n",
    "                nn.BatchNorm2d(out_channels),\n",
    "                nn.ReLU(inplace=True),\n",
    "                nn.Conv2d(out_channels, out_channels, kernel_size=3, padding=1),\n",
    "                nn.BatchNorm2d(out_channels),\n",
    "                nn.ReLU(inplace=True)\n",
    "            )\n",
    "\n",
    "        self.enc1 = CBR(in_channels, 64)\n",
    "        self.enc2 = CBR(64, 128)\n",
    "        self.enc3 = CBR(128, 256)\n",
    "        self.enc4 = CBR(256, 512)\n",
    "\n",
    "        self.pool = nn.MaxPool2d(2)\n",
    "\n",
    "        self.bottleneck = CBR(512, 1024)\n",
    "\n",
    "        self.upconv4 = nn.ConvTranspose2d(1024, 512, kernel_size=2, stride=2)\n",
    "        self.attn4 = AttentionGate(512, 512, 256)  # Attention Gate for the skip connection\n",
    "        self.dec4 = CBR(768, 512)\n",
    "\n",
    "        self.upconv3 = nn.ConvTranspose2d(512, 256, kernel_size=2, stride=2)\n",
    "        self.attn3 = AttentionGate(256, 256, 128)  # Attention Gate for the skip connection\n",
    "        self.dec3 = CBR(384, 256)\n",
    "\n",
    "        self.upconv2 = nn.ConvTranspose2d(256, 128, kernel_size=2, stride=2)\n",
    "        self.attn2 = AttentionGate(128, 128, 64)  # Attention Gate for the skip connection\n",
    "        self.dec2 = CBR(192, 128)\n",
    "\n",
    "        self.upconv1 = nn.ConvTranspose2d(128, 64, kernel_size=2, stride=2)\n",
    "        self.attn1 = AttentionGate(64, 64, 32)  # Attention Gate for the skip connection\n",
    "        self.dec1 = CBR(96, 64)\n",
    "\n",
    "        self.conv = nn.Conv2d(64, out_channels, kernel_size=1)\n",
    "\n",
    "    def forward(self, x):\n",
    "        # Encoding path\n",
    "        enc1 = self.enc1(x)\n",
    "        enc2 = self.enc2(self.pool(enc1))\n",
    "        enc3 = self.enc3(self.pool(enc2))\n",
    "        enc4 = self.enc4(self.pool(enc3))\n",
    "\n",
    "        # Bottleneck\n",
    "        bottleneck = self.bottleneck(self.pool(enc4))\n",
    "\n",
    "        # Decoding path\n",
    "        # dec4\n",
    "        dec4 = self.upconv4(bottleneck)\n",
    "        attn4 = self.attn4.forward(enc4, dec4)  # Apply attention gate\n",
    "        dec4 = torch.cat((attn4, dec4), dim=1)  # Concatenate attention output and upsampled feature map\n",
    "        dec4 = self.dec4(dec4)  # Adjust the number of input channels expected here\n",
    "\n",
    "        # dec3\n",
    "        dec3 = self.upconv3(dec4)\n",
    "        attn3 = self.attn3.forward(enc3, dec3)  # Apply attention gate\n",
    "        dec3 = torch.cat((attn3, dec3), dim=1)\n",
    "        dec3 = self.dec3(dec3)\n",
    "\n",
    "        # dec2\n",
    "        dec2 = self.upconv2(dec3)\n",
    "        attn2 = self.attn2.forward(enc2, dec2)  # Apply attention gate\n",
    "        dec2 = torch.cat((attn2, dec2), dim=1)\n",
    "        dec2 = self.dec2(dec2)\n",
    "\n",
    "        # dec1\n",
    "        dec1 = self.upconv1(dec2)\n",
    "        attn1 = self.attn1.forward(enc1, dec1)  # Apply attention gate\n",
    "        dec1 = torch.cat((attn1, dec1), dim=1)\n",
    "        dec1 = self.dec1(dec1)\n",
    "\n",
    "        return torch.sigmoid(self.conv(dec1))\n",
    "\n",
    "# Define transformations for the images\n",
    "transform = transforms.Compose([\n",
    "    transforms.ToTensor(),\n",
    "    transforms.Resize((256, 256))  # Resize to match the input size of the model\n",
    "])\n",
    "\n",
    "# Custom dataset class\n",
    "class BDD100KDataset(torch.utils.data.Dataset):\n",
    "    def __init__(self, image_dir, mask_dir, transform=None):\n",
    "        self.image_dir = image_dir\n",
    "        self.mask_dir = mask_dir\n",
    "        self.transform = transform\n",
    "        self.image_list = os.listdir(image_dir)\n",
    "\n",
    "    def __len__(self):\n",
    "        return len(self.image_list)\n",
    "\n",
    "    def __getitem__(self, idx):\n",
    "        image_path = os.path.join(self.image_dir, self.image_list[idx])\n",
    "        mask_path = os.path.join(self.mask_dir, self.image_list[idx].replace('.jpg', '.png'))\n",
    "\n",
    "        image = Image.open(image_path).convert(\"RGB\")\n",
    "        mask = Image.open(mask_path).convert('L')\n",
    "\n",
    "        if self.transform:\n",
    "            image = self.transform(image)\n",
    "            mask = self.transform(mask)\n",
    "\n",
    "        return image, mask\n",
    "\n",
    "# Instantiate the model with attention\n",
    "model_with_attention = UNetWithAttention(in_channels=3, out_channels=1).cuda()\n",
    "model_with_attention.load_state_dict(torch.load('./attention/best_unet_lane_detection.pth', weights_only=True)['model_state_dict'])\n",
    "model_with_attention.eval()\n",
    "\n",
    "# Define loss function\n",
    "criterion = nn.BCEWithLogitsLoss()\n",
    "\n",
    "# Load validation data\n",
    "val_image_dir = './Dataset/100k_images_val_small_data/bdd100k/images/100k/val'\n",
    "val_mask_dir = './Dataset/bdd100k_lane_labels_trainval_small_data/bdd100k/labels/lane/masks/val'\n",
    "val_dataset = BDD100KDataset(val_image_dir, val_mask_dir, transform)\n",
    "val_loader = DataLoader(val_dataset, batch_size=16, shuffle=False)\n",
    "\n",
    "# Evaluation function\n",
    "def evaluate(model, val_loader, criterion):\n",
    "    # model.eval()\n",
    "    val_loss = 0.0\n",
    "    val_accuracy = 0.0\n",
    "    val_f1 = 0.0\n",
    "    val_jaccard = 0.0\n",
    "    num_batches = len(val_loader)\n",
    "\n",
    "    with torch.no_grad():\n",
    "        for images, masks in tqdm(val_loader, desc='Evaluating'):\n",
    "            images = images.cuda()\n",
    "            masks = masks.cuda()\n",
    "\n",
    "            outputs = model(images)\n",
    "            loss = criterion(outputs, masks)\n",
    "            val_loss += loss.item()\n",
    "\n",
    "            preds = torch.sigmoid(outputs).cpu().numpy() > 0.5\n",
    "            true = masks.cpu().numpy() > 0.5\n",
    "\n",
    "            val_accuracy += accuracy_score(true.flatten(), preds.flatten())\n",
    "            val_f1 += f1_score(true.flatten(), preds.flatten())\n",
    "            val_jaccard += jaccard_score(true.flatten(), preds.flatten())\n",
    "\n",
    "    val_loss /= num_batches\n",
    "    val_accuracy /= num_batches\n",
    "    val_f1 /= num_batches\n",
    "    val_jaccard /= num_batches\n",
    "\n",
    "    print(f'Validation Loss: {val_loss:.4f}')\n",
    "    print(f'Validation Accuracy: {val_accuracy:.4f}')\n",
    "    print(f'Validation F1 Score: {val_f1:.4f}')\n",
    "    print(f'Validation Jaccard Score: {val_jaccard:.4f}')\n",
    "\n",
    "# Run evaluation\n",
    "evaluate(model_with_attention, val_loader, criterion)\n"
   ],
   "metadata": {
    "colab": {
     "base_uri": "https://localhost:8080/"
    },
    "id": "DgBSZxInX7QZ",
    "executionInfo": {
     "status": "ok",
     "timestamp": 1732240484706,
     "user_tz": -120,
     "elapsed": 10917,
     "user": {
      "displayName": "Best User",
      "userId": "02999704111326163772"
     }
    },
    "outputId": "5f8cc10f-8fa3-4137-94fc-8b15166238cd"
   },
   "execution_count": 23,
   "outputs": [
    {
     "output_type": "stream",
     "name": "stderr",
     "text": [
      "Evaluating: 100%|██████████| 7/7 [00:08<00:00,  1.23s/it]"
     ]
    },
    {
     "output_type": "stream",
     "name": "stdout",
     "text": [
      "Validation Loss: 0.3209\n",
      "Validation Accuracy: 0.9945\n",
      "Validation F1 Score: 0.9972\n",
      "Validation Jaccard Score: 0.9945\n"
     ]
    },
    {
     "output_type": "stream",
     "name": "stderr",
     "text": [
      "\n"
     ]
    }
   ]
  },
  {
   "cell_type": "code",
   "source": [
    "\n",
    "from PIL import Image\n",
    "import torch\n",
    "import torchvision.transforms as transforms\n",
    "import torch.nn as nn\n",
    "import matplotlib.pyplot as plt\n",
    "import numpy as np\n",
    "from PIL import Image\n",
    "import os\n",
    "\n",
    "plt.style.use('dark_background')\n",
    "\n",
    "class AttentionGate(nn.Module):\n",
    "    def __init__(self, in_channels, gating_channels, inter_channels):\n",
    "        super(AttentionGate, self).__init__()\n",
    "\n",
    "        self.W_g = nn.Conv2d(gating_channels, inter_channels, kernel_size=1, stride=1, padding=0)\n",
    "        self.W_x = nn.Conv2d(in_channels, inter_channels, kernel_size=1, stride=1, padding=0)\n",
    "        self.psi = nn.Conv2d(inter_channels, 1, kernel_size=1, stride=1, padding=0)\n",
    "        self.relu = nn.ReLU(inplace=True)\n",
    "        self.sigmoid = nn.Sigmoid()\n",
    "\n",
    "    def forward(self, x, g):\n",
    "        # g: gating signal from the decoder\n",
    "        # x: feature map from the encoder\n",
    "        g = self.W_g(g)\n",
    "        x = self.W_x(x)\n",
    "\n",
    "        # Combine the two signals\n",
    "        attn = self.relu(g + x)\n",
    "        attn = self.psi(attn)\n",
    "        attn = self.sigmoid(attn)\n",
    "\n",
    "        # Apply the attention map to the feature map x\n",
    "        return x * attn\n",
    "\n",
    "\n",
    "class UNetWithAttention(nn.Module):\n",
    "    def __init__(self, in_channels, out_channels):\n",
    "        super(UNetWithAttention, self).__init__()\n",
    "\n",
    "        def CBR(in_channels, out_channels):\n",
    "            return nn.Sequential(\n",
    "                nn.Conv2d(in_channels, out_channels, kernel_size=3, padding=1),\n",
    "                nn.BatchNorm2d(out_channels),\n",
    "                nn.ReLU(inplace=True),\n",
    "                nn.Conv2d(out_channels, out_channels, kernel_size=3, padding=1),\n",
    "                nn.BatchNorm2d(out_channels),\n",
    "                nn.ReLU(inplace=True)\n",
    "            )\n",
    "\n",
    "        self.enc1 = CBR(in_channels, 64)\n",
    "        self.enc2 = CBR(64, 128)\n",
    "        self.enc3 = CBR(128, 256)\n",
    "        self.enc4 = CBR(256, 512)\n",
    "\n",
    "        self.pool = nn.MaxPool2d(2)\n",
    "\n",
    "        self.bottleneck = CBR(512, 1024)\n",
    "\n",
    "        self.upconv4 = nn.ConvTranspose2d(1024, 512, kernel_size=2, stride=2)\n",
    "        self.attn4 = AttentionGate(512, 512, 256)  # Attention Gate for the skip connection\n",
    "        self.dec4 = CBR(768, 512)\n",
    "\n",
    "        self.upconv3 = nn.ConvTranspose2d(512, 256, kernel_size=2, stride=2)\n",
    "        self.attn3 = AttentionGate(256, 256, 128)  # Attention Gate for the skip connection\n",
    "        self.dec3 = CBR(384, 256)\n",
    "\n",
    "        self.upconv2 = nn.ConvTranspose2d(256, 128, kernel_size=2, stride=2)\n",
    "        self.attn2 = AttentionGate(128, 128, 64)  # Attention Gate for the skip connection\n",
    "        self.dec2 = CBR(192, 128)\n",
    "\n",
    "        self.upconv1 = nn.ConvTranspose2d(128, 64, kernel_size=2, stride=2)\n",
    "        self.attn1 = AttentionGate(64, 64, 32)  # Attention Gate for the skip connection\n",
    "        self.dec1 = CBR(96, 64)\n",
    "\n",
    "        self.conv = nn.Conv2d(64, out_channels, kernel_size=1)\n",
    "\n",
    "    def forward(self, x):\n",
    "        # Encoding path\n",
    "        enc1 = self.enc1(x)\n",
    "        enc2 = self.enc2(self.pool(enc1))\n",
    "        enc3 = self.enc3(self.pool(enc2))\n",
    "        enc4 = self.enc4(self.pool(enc3))\n",
    "\n",
    "        # Bottleneck\n",
    "        bottleneck = self.bottleneck(self.pool(enc4))\n",
    "\n",
    "        # Decoding path\n",
    "        # dec4\n",
    "        dec4 = self.upconv4(bottleneck)\n",
    "        attn4 = self.attn4.forward(enc4, dec4)  # Apply attention gate\n",
    "        dec4 = torch.cat((attn4, dec4), dim=1)  # Concatenate attention output and upsampled feature map\n",
    "        dec4 = self.dec4(dec4)  # Adjust the number of input channels expected here\n",
    "\n",
    "        # dec3\n",
    "        dec3 = self.upconv3(dec4)\n",
    "        attn3 = self.attn3.forward(enc3, dec3)  # Apply attention gate\n",
    "        dec3 = torch.cat((attn3, dec3), dim=1)\n",
    "        dec3 = self.dec3(dec3)\n",
    "\n",
    "        # dec2\n",
    "        dec2 = self.upconv2(dec3)\n",
    "        attn2 = self.attn2.forward(enc2, dec2)  # Apply attention gate\n",
    "        dec2 = torch.cat((attn2, dec2), dim=1)\n",
    "        dec2 = self.dec2(dec2)\n",
    "\n",
    "        # dec1\n",
    "        dec1 = self.upconv1(dec2)\n",
    "        attn1 = self.attn1.forward(enc1, dec1)  # Apply attention gate\n",
    "        dec1 = torch.cat((attn1, dec1), dim=1)\n",
    "        dec1 = self.dec1(dec1)\n",
    "\n",
    "        return torch.sigmoid(self.conv(dec1))\n",
    "\n",
    "# Load the trained model\n",
    "model_with_attention = UNetWithAttention(in_channels=3, out_channels=1).cuda()\n",
    "model_with_attention.load_state_dict(torch.load('./attention/best_unet_lane_detection.pth', map_location=torch.device('cpu'))['model_state_dict'])\n",
    "model_with_attention.eval()\n",
    "\n",
    "# Transformations\n",
    "transform = transforms.Compose([\n",
    "    transforms.Resize((256, 256)),  # Resize to match the input size used during training\n",
    "    transforms.ToTensor()\n",
    "])\n",
    "\n",
    "# Function to preprocess the image and mask\n",
    "def preprocess(image_path, mask_path):\n",
    "    image = Image.open(image_path).convert('RGB')\n",
    "    mask = Image.open(mask_path).convert('L')  # Grayscale for mask\n",
    "    original_size = image.size  # Keep original size\n",
    "    image = transform(image)\n",
    "    mask = transform(mask)\n",
    "    return image, mask, original_size\n",
    "\n",
    "# Function to post-process the output\n",
    "def postprocess(output, original_size):\n",
    "    output = output.squeeze().cpu().numpy()\n",
    "    output = np.uint8(output * 255)  # Scale to 0-255\n",
    "    output = Image.fromarray(output).resize(original_size, Image.BILINEAR)\n",
    "    output = np.array(output)\n",
    "    return output\n",
    "\n",
    "# Function to display the results\n",
    "def display_results(image_path, mask_path, predicted_mask):\n",
    "    original_image = Image.open(image_path).convert('RGB')\n",
    "    ground_truth_mask = Image.open(mask_path).convert('L')\n",
    "\n",
    "    plt.figure(figsize=(15, 5))\n",
    "\n",
    "    plt.subplot(1, 3, 1)\n",
    "    plt.title(\"Original Image\")\n",
    "    plt.imshow(original_image)\n",
    "    plt.axis('off')\n",
    "\n",
    "    plt.subplot(1, 3, 2)\n",
    "    plt.title(\"Ground Truth Mask\")\n",
    "    plt.imshow(ground_truth_mask,cmap=\"gray\")\n",
    "    plt.axis('off')\n",
    "\n",
    "    plt.subplot(1, 3, 3)\n",
    "    plt.title(\"Predicted Mask\")\n",
    "    plt.imshow(predicted_mask, cmap=\"gray\")\n",
    "    plt.axis('off')\n",
    "\n",
    "    plt.show()\n",
    "\n",
    "def run_inference(image_path, mask_path):\n",
    "    image, mask, original_size = preprocess(image_path, mask_path)\n",
    "    image = image.unsqueeze(0).cuda()  # Add batch dimension\n",
    "\n",
    "    with torch.no_grad():\n",
    "        output = model_with_attention(image)\n",
    "        output = torch.sigmoid(output)  # Apply sigmoid to get probabilities\n",
    "\n",
    "    predicted_mask = postprocess(output, original_size)\n",
    "\n",
    "    # Save predicted mask\n",
    "    save_folder = './Dataset/Predicted'\n",
    "    os.makedirs(save_folder, exist_ok=True)\n",
    "    predicted_mask_image = Image.fromarray(predicted_mask)\n",
    "    predicted_mask_image.save(os.path.join(save_folder, os.path.basename(mask_path)))\n",
    "\n",
    "    display_results(image_path, mask_path, predicted_mask)\n",
    "\n",
    "# Example usage\n",
    "image_path = './Dataset/100k_images_val_small_data/bdd100k/images/100k/val/b1e0c01d-dd9e6e2f.jpg'\n",
    "mask_path = './Dataset/bdd100k_lane_labels_trainval_small_data/bdd100k/labels/lane/masks/val/b1e0c01d-dd9e6e2f.png'\n",
    "run_inference(image_path, mask_path)"
   ],
   "metadata": {
    "colab": {
     "base_uri": "https://localhost:8080/",
     "height": 257
    },
    "id": "-wzqlvzTkmfD",
    "executionInfo": {
     "status": "ok",
     "timestamp": 1732240739340,
     "user_tz": -120,
     "elapsed": 3883,
     "user": {
      "displayName": "Best User",
      "userId": "02999704111326163772"
     }
    },
    "outputId": "1d85e7ac-63bb-40bd-dcf8-23fd117e0cda"
   },
   "execution_count": 26,
   "outputs": [
    {
     "output_type": "stream",
     "name": "stderr",
     "text": [
      "<ipython-input-26-f595ce039b7a>:119: FutureWarning: You are using `torch.load` with `weights_only=False` (the current default value), which uses the default pickle module implicitly. It is possible to construct malicious pickle data which will execute arbitrary code during unpickling (See https://github.com/pytorch/pytorch/blob/main/SECURITY.md#untrusted-models for more details). In a future release, the default value for `weights_only` will be flipped to `True`. This limits the functions that could be executed during unpickling. Arbitrary objects will no longer be allowed to be loaded via this mode unless they are explicitly allowlisted by the user via `torch.serialization.add_safe_globals`. We recommend you start setting `weights_only=True` for any use case where you don't have full control of the loaded file. Please open an issue on GitHub for any issues related to this experimental feature.\n",
      "  model_with_attention.load_state_dict(torch.load('./attention/best_unet_lane_detection.pth', map_location=torch.device('cpu'))['model_state_dict'])\n"
     ]
    },
    {
     "output_type": "display_data",
     "data": {
      "text/plain": [
       "<Figure size 1500x500 with 3 Axes>"
      ],
      "image/png": "[encoded data removed]"
     },
     "metadata": {}
    }
   ]
  },
  {
   "cell_type": "code",
   "source": [],
   "metadata": {
    "id": "_8CG6XG_lnWI"
   },
   "execution_count": null,
   "outputs": []
  }
 ]
}
